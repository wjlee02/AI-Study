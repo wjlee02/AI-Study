{
  "cells": [
    {
      "cell_type": "markdown",
      "id": "a2bcba5f-002e-4f49-9622-ada6117faf0a",
      "metadata": {
        "id": "a2bcba5f-002e-4f49-9622-ada6117faf0a"
      },
      "source": [
        "## Import"
      ]
    },
    {
      "cell_type": "code",
      "execution_count": null,
      "id": "KCCwX3s_4l4I",
      "metadata": {
        "colab": {
          "base_uri": "https://localhost:8080/"
        },
        "id": "KCCwX3s_4l4I",
        "outputId": "686f122b-1c1e-49f0-b312-5191a26187a7"
      },
      "outputs": [
        {
          "output_type": "stream",
          "name": "stdout",
          "text": [
            "Drive already mounted at /content/drive; to attempt to forcibly remount, call drive.mount(\"/content/drive\", force_remount=True).\n"
          ]
        }
      ],
      "source": [
        "from google.colab import drive\n",
        "drive.mount('/content/drive')"
      ]
    },
    {
      "cell_type": "code",
      "execution_count": null,
      "id": "2b0d9b68-7102-4eca-9543-3b9b8acafc6e",
      "metadata": {
        "id": "2b0d9b68-7102-4eca-9543-3b9b8acafc6e"
      },
      "outputs": [],
      "source": [
        "import random\n",
        "import pandas as pd\n",
        "import numpy as np\n",
        "import os\n",
        "import re\n",
        "import glob\n",
        "import cv2\n",
        "\n",
        "import torch\n",
        "import torch.nn as nn\n",
        "import torch.optim as optim\n",
        "import torch.nn.functional as F\n",
        "from torch.utils.data import Dataset, DataLoader, WeightedRandomSampler\n",
        "\n",
        "import albumentations as A\n",
        "from albumentations.pytorch.transforms import ToTensorV2\n",
        "import torchvision.models as models\n",
        "\n",
        "from sklearn.model_selection import train_test_split\n",
        "from sklearn import preprocessing\n",
        "from sklearn.metrics import f1_score\n",
        "from sklearn.metrics import classification_report\n",
        "from tqdm import tqdm\n",
        "\n",
        "import warnings\n",
        "warnings.filterwarnings(action='ignore')"
      ]
    },
    {
      "cell_type": "code",
      "execution_count": null,
      "id": "d13862e3-bb27-47af-9b58-a9fbf804df71",
      "metadata": {
        "id": "d13862e3-bb27-47af-9b58-a9fbf804df71"
      },
      "outputs": [],
      "source": [
        "device = torch.device('cuda') if torch.cuda.is_available() else torch.device('cpu')"
      ]
    },
    {
      "cell_type": "markdown",
      "id": "fc7df3f2-62d0-4499-a46e-47d01699def0",
      "metadata": {
        "id": "fc7df3f2-62d0-4499-a46e-47d01699def0"
      },
      "source": [
        "## Hyperparameter Setting"
      ]
    },
    {
      "cell_type": "code",
      "execution_count": null,
      "id": "c3367399-9798-4e38-967b-fd2320b9a2b2",
      "metadata": {
        "id": "c3367399-9798-4e38-967b-fd2320b9a2b2"
      },
      "outputs": [],
      "source": [
        "CFG = {\n",
        "    'IMG_SIZE':224,\n",
        "    'EPOCHS':20,\n",
        "    'LEARNING_RATE':3e-4,\n",
        "    'BATCH_SIZE':32,\n",
        "    'SEED':41\n",
        "}"
      ]
    },
    {
      "cell_type": "markdown",
      "id": "4254e860-ff82-43ba-bfa3-fcee4eb3ddbd",
      "metadata": {
        "id": "4254e860-ff82-43ba-bfa3-fcee4eb3ddbd"
      },
      "source": [
        "## Fixed RandomSeed"
      ]
    },
    {
      "cell_type": "code",
      "execution_count": null,
      "id": "101a714b-71b6-4475-a4ce-fa5f98bc2731",
      "metadata": {
        "id": "101a714b-71b6-4475-a4ce-fa5f98bc2731"
      },
      "outputs": [],
      "source": [
        "def seed_everything(seed):\n",
        "    random.seed(seed)\n",
        "    os.environ['PYTHONHASHSEED'] = str(seed)\n",
        "    np.random.seed(seed)\n",
        "    torch.manual_seed(seed)\n",
        "    torch.cuda.manual_seed(seed)\n",
        "    torch.backends.cudnn.deterministic = True\n",
        "    torch.backends.cudnn.benchmark = True\n",
        "\n",
        "seed_everything(CFG['SEED']) # Seed 고정"
      ]
    },
    {
      "cell_type": "markdown",
      "id": "05a4172e-5791-446f-9616-35c09d8bf25a",
      "metadata": {
        "id": "05a4172e-5791-446f-9616-35c09d8bf25a"
      },
      "source": [
        "## Train & Validation Split"
      ]
    },
    {
      "cell_type": "code",
      "execution_count": null,
      "id": "4119733d-adef-436c-afca-4112a9225d33",
      "metadata": {
        "id": "4119733d-adef-436c-afca-4112a9225d33"
      },
      "outputs": [],
      "source": [
        "dir_path = '/content/drive/MyDrive/Colab Notebooks/bird_data/'\n",
        "df = pd.read_csv(dir_path + 'train.csv')\n",
        "df['img_path'] = df['img_path'].str.replace('./', dir_path)"
      ]
    },
    {
      "cell_type": "code",
      "execution_count": null,
      "id": "4db41c93-3515-4fcd-936b-0a01f5388b3f",
      "metadata": {
        "id": "4db41c93-3515-4fcd-936b-0a01f5388b3f"
      },
      "outputs": [],
      "source": [
        "train, val, _, _ = train_test_split(df, df['label'], test_size=0.3, stratify=df['label'], random_state=CFG['SEED'])"
      ]
    },
    {
      "cell_type": "code",
      "source": [
        "len(train['label'].value_counts()) # 총 새 종류 25개"
      ],
      "metadata": {
        "colab": {
          "base_uri": "https://localhost:8080/"
        },
        "id": "pmPCYtpuKMW5",
        "outputId": "5b0d6284-43eb-4bc1-82a0-0d74983027ad"
      },
      "id": "pmPCYtpuKMW5",
      "execution_count": null,
      "outputs": [
        {
          "output_type": "execute_result",
          "data": {
            "text/plain": [
              "25"
            ]
          },
          "metadata": {},
          "execution_count": 82
        }
      ]
    },
    {
      "cell_type": "markdown",
      "id": "bb1f117e-105d-4e9e-b9bd-938d4271a940",
      "metadata": {
        "id": "bb1f117e-105d-4e9e-b9bd-938d4271a940"
      },
      "source": [
        "## Label-Encoding"
      ]
    },
    {
      "cell_type": "code",
      "execution_count": null,
      "id": "6c8c5916-8065-4b5c-aa37-f3fb2b9fa422",
      "metadata": {
        "id": "6c8c5916-8065-4b5c-aa37-f3fb2b9fa422"
      },
      "outputs": [],
      "source": [
        "le = preprocessing.LabelEncoder()\n",
        "train['label'] = le.fit_transform(train['label'])\n",
        "val['label'] = le.transform(val['label'])"
      ]
    },
    {
      "cell_type": "markdown",
      "id": "ac27ed36-8031-47a7-bd0d-a913513f2e8e",
      "metadata": {
        "id": "ac27ed36-8031-47a7-bd0d-a913513f2e8e"
      },
      "source": [
        "## CustomDataset"
      ]
    },
    {
      "cell_type": "code",
      "execution_count": null,
      "id": "16fd60a5-24e2-4539-bfd0-1c374a641699",
      "metadata": {
        "id": "16fd60a5-24e2-4539-bfd0-1c374a641699"
      },
      "outputs": [],
      "source": [
        "class CustomDataset(Dataset):\n",
        "    def __init__(self, img_path_list, label_list, transforms=None):\n",
        "        self.img_path_list = img_path_list\n",
        "        self.label_list = label_list\n",
        "        self.transforms = transforms\n",
        "\n",
        "    def __getitem__(self, index):\n",
        "        img_path = self.img_path_list[index]\n",
        "\n",
        "        image = cv2.imread(img_path)\n",
        "\n",
        "        if self.transforms is not None:\n",
        "            image = self.transforms(image=image)['image']\n",
        "\n",
        "        if self.label_list is not None:\n",
        "            label = self.label_list[index]\n",
        "            return image, label\n",
        "        else:\n",
        "            return image\n",
        "\n",
        "    def __len__(self):\n",
        "        return len(self.img_path_list)"
      ]
    },
    {
      "cell_type": "code",
      "execution_count": null,
      "id": "340b4a8b-5d6c-413f-b8b6-066e91a660e5",
      "metadata": {
        "id": "340b4a8b-5d6c-413f-b8b6-066e91a660e5"
      },
      "outputs": [],
      "source": [
        "train_transform = A.Compose([\n",
        "                            A.Resize(CFG['IMG_SIZE'],CFG['IMG_SIZE']),\n",
        "                            A.Normalize(mean=(0.485, 0.456, 0.406), std=(0.229, 0.224, 0.225), max_pixel_value=255.0, always_apply=False, p=1.0),\n",
        "                            ToTensorV2()\n",
        "                            ])\n",
        "\n",
        "test_transform = A.Compose([\n",
        "                            A.Resize(CFG['IMG_SIZE'],CFG['IMG_SIZE']),\n",
        "                            A.Normalize(mean=(0.485, 0.456, 0.406), std=(0.229, 0.224, 0.225), max_pixel_value=255.0, always_apply=False, p=1.0),\n",
        "                            ToTensorV2()\n",
        "                            ])"
      ]
    },
    {
      "cell_type": "code",
      "execution_count": null,
      "id": "9d880481-1965-499d-9caa-fdfa8526f789",
      "metadata": {
        "id": "9d880481-1965-499d-9caa-fdfa8526f789"
      },
      "outputs": [],
      "source": [
        "train_dataset = CustomDataset(train['img_path'].values, train['label'].values, train_transform)\n",
        "train_loader = DataLoader(train_dataset, batch_size = CFG['BATCH_SIZE'], shuffle=False, num_workers=0)\n",
        "\n",
        "val_dataset = CustomDataset(val['img_path'].values, val['label'].values, test_transform)\n",
        "val_loader = DataLoader(val_dataset, batch_size=CFG['BATCH_SIZE'], shuffle=False, num_workers=0)"
      ]
    },
    {
      "cell_type": "markdown",
      "id": "39962463-032f-490a-a76d-c03991795f38",
      "metadata": {
        "id": "39962463-032f-490a-a76d-c03991795f38"
      },
      "source": [
        "## Model Define"
      ]
    },
    {
      "cell_type": "code",
      "source": [
        "# class BaseModel(nn.Module):\n",
        "#     def __init__(self, num_classes=len(le.classes_)):\n",
        "#         super(BaseModel, self).__init__()\n",
        "#         self.backbone = models.efficientnet_b0(pretrained=True)\n",
        "#         self.classifier = nn.Linear(1000, num_classes)\n",
        "#         self.classifier2 =nn.Softmax(dim=1)\n",
        "\n",
        "#     def forward(self, x):\n",
        "#         x = self.backbone(x)\n",
        "#         x = self.classifier(x)\n",
        "#         x=self.classifier2(x)\n",
        "#         return x"
      ],
      "metadata": {
        "id": "CsS6OWK8URvS"
      },
      "id": "CsS6OWK8URvS",
      "execution_count": null,
      "outputs": []
    },
    {
      "cell_type": "code",
      "source": [
        "pip install timm"
      ],
      "metadata": {
        "id": "5dwadMnVLvW7",
        "colab": {
          "base_uri": "https://localhost:8080/"
        },
        "outputId": "d1230d9a-6a81-4bf5-d804-a94c9d37358e"
      },
      "id": "5dwadMnVLvW7",
      "execution_count": null,
      "outputs": [
        {
          "output_type": "stream",
          "name": "stdout",
          "text": [
            "Requirement already satisfied: timm in /usr/local/lib/python3.10/dist-packages (0.9.16)\n",
            "Requirement already satisfied: torch in /usr/local/lib/python3.10/dist-packages (from timm) (2.2.1+cu121)\n",
            "Requirement already satisfied: torchvision in /usr/local/lib/python3.10/dist-packages (from timm) (0.17.1+cu121)\n",
            "Requirement already satisfied: pyyaml in /usr/local/lib/python3.10/dist-packages (from timm) (6.0.1)\n",
            "Requirement already satisfied: huggingface_hub in /usr/local/lib/python3.10/dist-packages (from timm) (0.20.3)\n",
            "Requirement already satisfied: safetensors in /usr/local/lib/python3.10/dist-packages (from timm) (0.4.3)\n",
            "Requirement already satisfied: filelock in /usr/local/lib/python3.10/dist-packages (from huggingface_hub->timm) (3.13.4)\n",
            "Requirement already satisfied: fsspec>=2023.5.0 in /usr/local/lib/python3.10/dist-packages (from huggingface_hub->timm) (2023.6.0)\n",
            "Requirement already satisfied: requests in /usr/local/lib/python3.10/dist-packages (from huggingface_hub->timm) (2.31.0)\n",
            "Requirement already satisfied: tqdm>=4.42.1 in /usr/local/lib/python3.10/dist-packages (from huggingface_hub->timm) (4.66.2)\n",
            "Requirement already satisfied: typing-extensions>=3.7.4.3 in /usr/local/lib/python3.10/dist-packages (from huggingface_hub->timm) (4.11.0)\n",
            "Requirement already satisfied: packaging>=20.9 in /usr/local/lib/python3.10/dist-packages (from huggingface_hub->timm) (24.0)\n",
            "Requirement already satisfied: sympy in /usr/local/lib/python3.10/dist-packages (from torch->timm) (1.12)\n",
            "Requirement already satisfied: networkx in /usr/local/lib/python3.10/dist-packages (from torch->timm) (3.3)\n",
            "Requirement already satisfied: jinja2 in /usr/local/lib/python3.10/dist-packages (from torch->timm) (3.1.3)\n",
            "Requirement already satisfied: nvidia-cuda-nvrtc-cu12==12.1.105 in /usr/local/lib/python3.10/dist-packages (from torch->timm) (12.1.105)\n",
            "Requirement already satisfied: nvidia-cuda-runtime-cu12==12.1.105 in /usr/local/lib/python3.10/dist-packages (from torch->timm) (12.1.105)\n",
            "Requirement already satisfied: nvidia-cuda-cupti-cu12==12.1.105 in /usr/local/lib/python3.10/dist-packages (from torch->timm) (12.1.105)\n",
            "Requirement already satisfied: nvidia-cudnn-cu12==8.9.2.26 in /usr/local/lib/python3.10/dist-packages (from torch->timm) (8.9.2.26)\n",
            "Requirement already satisfied: nvidia-cublas-cu12==12.1.3.1 in /usr/local/lib/python3.10/dist-packages (from torch->timm) (12.1.3.1)\n",
            "Requirement already satisfied: nvidia-cufft-cu12==11.0.2.54 in /usr/local/lib/python3.10/dist-packages (from torch->timm) (11.0.2.54)\n",
            "Requirement already satisfied: nvidia-curand-cu12==10.3.2.106 in /usr/local/lib/python3.10/dist-packages (from torch->timm) (10.3.2.106)\n",
            "Requirement already satisfied: nvidia-cusolver-cu12==11.4.5.107 in /usr/local/lib/python3.10/dist-packages (from torch->timm) (11.4.5.107)\n",
            "Requirement already satisfied: nvidia-cusparse-cu12==12.1.0.106 in /usr/local/lib/python3.10/dist-packages (from torch->timm) (12.1.0.106)\n",
            "Requirement already satisfied: nvidia-nccl-cu12==2.19.3 in /usr/local/lib/python3.10/dist-packages (from torch->timm) (2.19.3)\n",
            "Requirement already satisfied: nvidia-nvtx-cu12==12.1.105 in /usr/local/lib/python3.10/dist-packages (from torch->timm) (12.1.105)\n",
            "Requirement already satisfied: triton==2.2.0 in /usr/local/lib/python3.10/dist-packages (from torch->timm) (2.2.0)\n",
            "Requirement already satisfied: nvidia-nvjitlink-cu12 in /usr/local/lib/python3.10/dist-packages (from nvidia-cusolver-cu12==11.4.5.107->torch->timm) (12.4.127)\n",
            "Requirement already satisfied: numpy in /usr/local/lib/python3.10/dist-packages (from torchvision->timm) (1.25.2)\n",
            "Requirement already satisfied: pillow!=8.3.*,>=5.3.0 in /usr/local/lib/python3.10/dist-packages (from torchvision->timm) (9.4.0)\n",
            "Requirement already satisfied: MarkupSafe>=2.0 in /usr/local/lib/python3.10/dist-packages (from jinja2->torch->timm) (2.1.5)\n",
            "Requirement already satisfied: charset-normalizer<4,>=2 in /usr/local/lib/python3.10/dist-packages (from requests->huggingface_hub->timm) (3.3.2)\n",
            "Requirement already satisfied: idna<4,>=2.5 in /usr/local/lib/python3.10/dist-packages (from requests->huggingface_hub->timm) (3.7)\n",
            "Requirement already satisfied: urllib3<3,>=1.21.1 in /usr/local/lib/python3.10/dist-packages (from requests->huggingface_hub->timm) (2.0.7)\n",
            "Requirement already satisfied: certifi>=2017.4.17 in /usr/local/lib/python3.10/dist-packages (from requests->huggingface_hub->timm) (2024.2.2)\n",
            "Requirement already satisfied: mpmath>=0.19 in /usr/local/lib/python3.10/dist-packages (from sympy->torch->timm) (1.3.0)\n"
          ]
        }
      ]
    },
    {
      "cell_type": "code",
      "execution_count": null,
      "id": "3664c4d0-f1f2-4971-9090-4d6ee66309ae",
      "metadata": {
        "id": "3664c4d0-f1f2-4971-9090-4d6ee66309ae"
      },
      "outputs": [],
      "source": [
        "# import timm\n",
        "# import torch.nn as nn\n",
        "\n",
        "# class ViTModel(nn.Module):\n",
        "#     def __init__(self, num_classes):\n",
        "#         super().__init__()\n",
        "#         self.backbone = timm.create_model('vit_tiny_patch16_224', pretrained=True)\n",
        "#         self.classifier = nn.Linear(1000, num_classes)\n",
        "\n",
        "#     def forward(self, x):\n",
        "#         x = self.backbone(x)\n",
        "#         x = self.classifier(x)\n",
        "#         return x"
      ]
    },
    {
      "cell_type": "code",
      "source": [
        "import timm\n",
        "import torch.nn as nn\n",
        "\n",
        "class ConvNeXtModel(nn.Module):\n",
        "    def __init__(self, num_classes):\n",
        "        super().__init__()\n",
        "        self.model = timm.create_model('convnext_tiny', pretrained=True)\n",
        "        self.classifier = nn.Linear(1000, num_classes)\n",
        "\n",
        "    def forward(self, x):\n",
        "        x = self.model(x)\n",
        "        x = self.classifier(x)\n",
        "        return x"
      ],
      "metadata": {
        "id": "TPSrY9UvgL5M"
      },
      "id": "TPSrY9UvgL5M",
      "execution_count": null,
      "outputs": []
    },
    {
      "cell_type": "markdown",
      "id": "122af0aa-a1fd-4595-9488-35761e3cb596",
      "metadata": {
        "id": "122af0aa-a1fd-4595-9488-35761e3cb596"
      },
      "source": [
        "## Train"
      ]
    },
    {
      "cell_type": "code",
      "execution_count": null,
      "id": "a17df6b3-16c9-44dd-b0fd-ffb501fee749",
      "metadata": {
        "id": "a17df6b3-16c9-44dd-b0fd-ffb501fee749"
      },
      "outputs": [],
      "source": [
        "def train(model, optimizer, train_loader, val_loader, scheduler, device):\n",
        "    model.to(device)\n",
        "    criterion = nn.CrossEntropyLoss().to(device)\n",
        "\n",
        "    best_score = 0\n",
        "    best_model = None\n",
        "\n",
        "    for epoch in range(1, CFG['EPOCHS']+1):\n",
        "        model.train()\n",
        "        train_loss = []\n",
        "        for imgs, labels in tqdm(iter(train_loader)):\n",
        "            imgs = imgs.float().to(device)\n",
        "            labels = labels.to(device)\n",
        "\n",
        "            optimizer.zero_grad()\n",
        "\n",
        "            output = model(imgs)\n",
        "            loss = criterion(output, labels)\n",
        "\n",
        "            loss.backward()\n",
        "            optimizer.step()\n",
        "\n",
        "            train_loss.append(loss.item())\n",
        "\n",
        "        _val_loss, _val_score = validation(model, criterion, val_loader, device)\n",
        "        _train_loss = np.mean(train_loss)\n",
        "        print(f'Epoch [{epoch}], Train Loss : [{_train_loss:.5f}] Val Loss : [{_val_loss:.5f}] Val F1 Score : [{_val_score:.5f}]')\n",
        "\n",
        "        if scheduler is not None:\n",
        "            scheduler.step(_val_score)\n",
        "\n",
        "        if best_score < _val_score:\n",
        "            best_score = _val_score\n",
        "            best_model = model\n",
        "\n",
        "    return best_model"
      ]
    },
    {
      "cell_type": "code",
      "execution_count": null,
      "id": "96b1c524-89fb-4ce8-a49f-067fd489f84a",
      "metadata": {
        "id": "96b1c524-89fb-4ce8-a49f-067fd489f84a"
      },
      "outputs": [],
      "source": [
        "def validation(model, criterion, val_loader, device):\n",
        "    model.eval()\n",
        "    val_loss = []\n",
        "    preds, true_labels = [], []\n",
        "\n",
        "    with torch.no_grad():\n",
        "        for imgs, labels in tqdm(iter(val_loader)):\n",
        "            imgs = imgs.float().to(device)\n",
        "            labels = labels.to(device)\n",
        "\n",
        "            pred = model(imgs)\n",
        "\n",
        "            loss = criterion(pred, labels)\n",
        "\n",
        "            preds += pred.argmax(1).detach().cpu().numpy().tolist()\n",
        "            true_labels += labels.detach().cpu().numpy().tolist()\n",
        "\n",
        "            val_loss.append(loss.item())\n",
        "\n",
        "        _val_loss = np.mean(val_loss)\n",
        "        _val_score = f1_score(true_labels, preds, average='macro')\n",
        "\n",
        "    return _val_loss, _val_score"
      ]
    },
    {
      "cell_type": "markdown",
      "id": "51da39f9-904f-4abd-a7d2-cdf29c4a6c24",
      "metadata": {
        "id": "51da39f9-904f-4abd-a7d2-cdf29c4a6c24"
      },
      "source": [
        "## Run!!"
      ]
    },
    {
      "cell_type": "code",
      "execution_count": null,
      "id": "86142d9a-68b7-4d04-8423-49d28025411d",
      "metadata": {
        "colab": {
          "base_uri": "https://localhost:8080/"
        },
        "id": "86142d9a-68b7-4d04-8423-49d28025411d",
        "outputId": "edc8bc02-1a7b-482f-867c-130133b9e4e5"
      },
      "outputs": [
        {
          "metadata": {
            "tags": null
          },
          "name": "stderr",
          "output_type": "stream",
          "text": [
            "\n",
            "  0%|          | 0/347 [00:00<?, ?it/s]\u001b[A\n",
            "  0%|          | 1/347 [00:03<22:31,  3.91s/it]\u001b[A\n",
            "  1%|          | 2/347 [00:04<10:21,  1.80s/it]\u001b[A\n",
            "  1%|          | 3/347 [00:04<06:24,  1.12s/it]\u001b[A\n",
            "  1%|          | 4/347 [00:04<04:37,  1.24it/s]\u001b[A\n",
            "  1%|▏         | 5/347 [00:05<03:35,  1.59it/s]\u001b[A\n",
            "  2%|▏         | 6/347 [00:05<02:56,  1.93it/s]\u001b[A\n",
            "  2%|▏         | 7/347 [00:05<02:33,  2.21it/s]\u001b[A\n",
            "  2%|▏         | 8/347 [00:06<02:19,  2.44it/s]\u001b[A\n",
            "  3%|▎         | 9/347 [00:06<02:09,  2.62it/s]\u001b[A\n",
            "  3%|▎         | 10/347 [00:06<02:01,  2.78it/s]\u001b[A\n",
            "  3%|▎         | 11/347 [00:07<01:54,  2.94it/s]\u001b[A\n",
            "  3%|▎         | 12/347 [00:07<01:52,  2.98it/s]\u001b[A\n",
            "  4%|▎         | 13/347 [00:07<01:49,  3.04it/s]\u001b[A\n",
            "  4%|▍         | 14/347 [00:08<01:49,  3.04it/s]\u001b[A\n",
            "  4%|▍         | 15/347 [00:08<01:46,  3.11it/s]\u001b[A\n",
            "  5%|▍         | 16/347 [00:08<01:47,  3.09it/s]\u001b[A\n",
            "  5%|▍         | 17/347 [00:08<01:46,  3.11it/s]\u001b[A\n",
            "  5%|▌         | 18/347 [00:09<01:46,  3.09it/s]\u001b[A\n",
            "  5%|▌         | 19/347 [00:09<01:46,  3.07it/s]\u001b[A\n",
            "  6%|▌         | 20/347 [00:09<01:45,  3.10it/s]\u001b[A\n",
            "  6%|▌         | 21/347 [00:10<01:46,  3.06it/s]\u001b[A\n",
            "  6%|▋         | 22/347 [00:10<01:45,  3.09it/s]\u001b[A\n",
            "  7%|▋         | 23/347 [00:10<01:45,  3.07it/s]\u001b[A\n",
            "  7%|▋         | 24/347 [00:11<01:45,  3.07it/s]\u001b[A\n",
            "  7%|▋         | 25/347 [00:11<01:43,  3.10it/s]\u001b[A\n",
            "  7%|▋         | 26/347 [00:11<01:42,  3.12it/s]\u001b[A\n",
            "  8%|▊         | 27/347 [00:12<01:42,  3.13it/s]\u001b[A\n",
            "  8%|▊         | 28/347 [00:12<01:42,  3.12it/s]\u001b[A\n",
            "  8%|▊         | 29/347 [00:12<01:43,  3.06it/s]\u001b[A\n",
            "  9%|▊         | 30/347 [00:13<01:42,  3.09it/s]\u001b[A\n",
            "  9%|▉         | 31/347 [00:13<01:40,  3.14it/s]\u001b[A\n",
            "  9%|▉         | 32/347 [00:13<01:39,  3.18it/s]\u001b[A\n",
            " 10%|▉         | 33/347 [00:14<01:39,  3.16it/s]\u001b[A\n",
            " 10%|▉         | 34/347 [00:14<01:39,  3.13it/s]\u001b[A\n",
            " 10%|█         | 35/347 [00:14<01:38,  3.17it/s]\u001b[A\n",
            " 10%|█         | 36/347 [00:15<01:37,  3.19it/s]\u001b[A\n",
            " 11%|█         | 37/347 [00:15<01:37,  3.17it/s]\u001b[A\n",
            " 11%|█         | 38/347 [00:15<01:34,  3.26it/s]\u001b[A\n",
            " 11%|█         | 39/347 [00:15<01:37,  3.17it/s]\u001b[A\n",
            " 12%|█▏        | 40/347 [00:16<01:38,  3.13it/s]\u001b[A\n",
            " 12%|█▏        | 41/347 [00:16<01:35,  3.19it/s]\u001b[A\n",
            " 12%|█▏        | 42/347 [00:16<01:36,  3.16it/s]\u001b[A\n",
            " 12%|█▏        | 43/347 [00:17<01:34,  3.20it/s]\u001b[A\n",
            " 13%|█▎        | 44/347 [00:17<01:33,  3.23it/s]\u001b[A\n",
            " 13%|█▎        | 45/347 [00:17<01:34,  3.19it/s]\u001b[A\n",
            " 13%|█▎        | 46/347 [00:18<01:35,  3.15it/s]\u001b[A\n",
            " 14%|█▎        | 47/347 [00:18<01:34,  3.17it/s]\u001b[A\n",
            " 14%|█▍        | 48/347 [00:18<01:31,  3.25it/s]\u001b[A\n",
            " 14%|█▍        | 49/347 [00:19<01:32,  3.24it/s]\u001b[A\n",
            " 14%|█▍        | 50/347 [00:19<01:32,  3.20it/s]\u001b[A\n",
            " 15%|█▍        | 51/347 [00:19<01:32,  3.19it/s]\u001b[A\n",
            " 15%|█▍        | 52/347 [00:20<01:32,  3.19it/s]\u001b[A\n",
            " 15%|█▌        | 53/347 [00:20<01:32,  3.18it/s]\u001b[A\n",
            " 16%|█▌        | 54/347 [00:20<01:32,  3.17it/s]\u001b[A\n",
            " 16%|█▌        | 55/347 [00:21<01:33,  3.11it/s]\u001b[A\n",
            " 16%|█▌        | 56/347 [00:21<01:34,  3.08it/s]\u001b[A\n",
            " 16%|█▋        | 57/347 [00:21<01:34,  3.06it/s]\u001b[A\n",
            " 17%|█▋        | 58/347 [00:22<01:34,  3.05it/s]\u001b[A\n",
            " 17%|█▋        | 59/347 [00:22<01:33,  3.09it/s]\u001b[A\n",
            " 17%|█▋        | 60/347 [00:22<01:34,  3.04it/s]\u001b[A\n",
            " 18%|█▊        | 61/347 [00:23<01:34,  3.04it/s]\u001b[A\n",
            " 18%|█▊        | 62/347 [00:23<01:33,  3.04it/s]\u001b[A\n",
            " 18%|█▊        | 63/347 [00:23<01:32,  3.06it/s]\u001b[A\n",
            " 18%|█▊        | 64/347 [00:23<01:32,  3.07it/s]\u001b[A\n",
            " 19%|█▊        | 65/347 [00:24<01:32,  3.05it/s]\u001b[A\n",
            " 19%|█▉        | 66/347 [00:24<01:32,  3.05it/s]\u001b[A\n",
            " 19%|█▉        | 67/347 [00:24<01:30,  3.08it/s]\u001b[A\n",
            " 20%|█▉        | 68/347 [00:25<01:30,  3.09it/s]\u001b[A\n",
            " 20%|█▉        | 69/347 [00:25<01:29,  3.11it/s]\u001b[A\n",
            " 20%|██        | 70/347 [00:25<01:28,  3.14it/s]\u001b[A\n",
            " 20%|██        | 71/347 [00:26<01:29,  3.07it/s]\u001b[A\n",
            " 21%|██        | 72/347 [00:26<01:29,  3.07it/s]\u001b[A\n",
            " 21%|██        | 73/347 [00:26<01:29,  3.06it/s]\u001b[A\n",
            " 21%|██▏       | 74/347 [00:27<01:29,  3.06it/s]\u001b[A\n",
            " 22%|██▏       | 75/347 [00:27<01:27,  3.10it/s]\u001b[A\n",
            " 22%|██▏       | 76/347 [00:27<01:26,  3.13it/s]\u001b[A\n",
            " 22%|██▏       | 77/347 [00:28<01:26,  3.14it/s]\u001b[A\n",
            " 22%|██▏       | 78/347 [00:28<01:26,  3.12it/s]\u001b[A\n",
            " 23%|██▎       | 79/347 [00:28<01:24,  3.16it/s]\u001b[A\n",
            " 23%|██▎       | 80/347 [00:29<01:23,  3.18it/s]\u001b[A\n",
            " 23%|██▎       | 81/347 [00:29<01:23,  3.20it/s]\u001b[A\n",
            " 24%|██▎       | 82/347 [00:29<01:22,  3.22it/s]\u001b[A\n",
            " 24%|██▍       | 83/347 [00:30<01:21,  3.22it/s]\u001b[A\n",
            " 24%|██▍       | 84/347 [00:30<01:22,  3.20it/s]\u001b[A\n",
            " 24%|██▍       | 85/347 [00:30<01:20,  3.23it/s]\u001b[A\n",
            " 25%|██▍       | 86/347 [00:30<01:22,  3.18it/s]\u001b[A\n",
            " 25%|██▌       | 87/347 [00:31<01:21,  3.18it/s]\u001b[A\n",
            " 25%|██▌       | 88/347 [00:31<01:21,  3.18it/s]\u001b[A\n",
            " 26%|██▌       | 89/347 [00:31<01:22,  3.13it/s]\u001b[A\n",
            " 26%|██▌       | 90/347 [00:32<01:22,  3.13it/s]\u001b[A\n",
            " 26%|██▌       | 91/347 [00:32<01:19,  3.20it/s]\u001b[A\n",
            " 27%|██▋       | 92/347 [00:32<01:21,  3.11it/s]\u001b[A\n",
            " 27%|██▋       | 93/347 [00:33<01:22,  3.09it/s]\u001b[A\n",
            " 27%|██▋       | 94/347 [00:33<01:23,  3.01it/s]\u001b[A\n",
            " 27%|██▋       | 95/347 [00:33<01:23,  3.01it/s]\u001b[A\n",
            " 28%|██▊       | 96/347 [00:34<01:21,  3.09it/s]\u001b[A\n",
            " 28%|██▊       | 97/347 [00:34<01:21,  3.06it/s]\u001b[A\n",
            " 28%|██▊       | 98/347 [00:34<01:22,  3.01it/s]\u001b[A\n",
            " 29%|██▊       | 99/347 [00:35<01:20,  3.08it/s]\u001b[A\n",
            " 29%|██▉       | 100/347 [00:35<01:19,  3.10it/s]\u001b[A\n",
            " 29%|██▉       | 101/347 [00:35<01:17,  3.16it/s]\u001b[A\n",
            " 29%|██▉       | 102/347 [00:36<01:16,  3.18it/s]\u001b[A\n",
            " 30%|██▉       | 103/347 [00:36<01:17,  3.14it/s]\u001b[A\n",
            " 30%|██▉       | 104/347 [00:36<01:16,  3.19it/s]\u001b[A\n",
            " 30%|███       | 105/347 [00:37<01:17,  3.13it/s]\u001b[A\n",
            " 31%|███       | 106/347 [00:37<01:17,  3.10it/s]\u001b[A\n",
            " 31%|███       | 107/347 [00:37<01:16,  3.14it/s]\u001b[A\n",
            " 31%|███       | 108/347 [00:38<01:15,  3.17it/s]\u001b[A\n",
            " 31%|███▏      | 109/347 [00:38<01:16,  3.12it/s]\u001b[A\n",
            " 32%|███▏      | 110/347 [00:38<01:15,  3.15it/s]\u001b[A\n",
            " 32%|███▏      | 111/347 [00:38<01:14,  3.18it/s]\u001b[A\n",
            " 32%|███▏      | 112/347 [00:39<01:12,  3.24it/s]\u001b[A\n",
            " 33%|███▎      | 113/347 [00:39<01:13,  3.20it/s]\u001b[A\n",
            " 33%|███▎      | 114/347 [00:39<01:13,  3.18it/s]\u001b[A\n",
            " 33%|███▎      | 115/347 [00:40<01:12,  3.19it/s]\u001b[A\n",
            " 33%|███▎      | 116/347 [00:40<01:13,  3.16it/s]\u001b[A\n",
            " 34%|███▎      | 117/347 [00:40<01:12,  3.17it/s]\u001b[A\n",
            " 34%|███▍      | 118/347 [00:41<01:10,  3.24it/s]\u001b[A\n",
            " 34%|███▍      | 119/347 [00:41<01:10,  3.25it/s]\u001b[A\n",
            " 35%|███▍      | 120/347 [00:41<01:09,  3.25it/s]\u001b[A\n",
            " 35%|███▍      | 121/347 [00:42<01:10,  3.20it/s]\u001b[A\n",
            " 35%|███▌      | 122/347 [00:42<01:10,  3.19it/s]\u001b[A\n",
            " 35%|███▌      | 123/347 [00:42<01:10,  3.17it/s]\u001b[A\n",
            " 36%|███▌      | 124/347 [00:43<01:10,  3.16it/s]\u001b[A\n",
            " 36%|███▌      | 125/347 [00:43<01:09,  3.19it/s]\u001b[A\n",
            " 36%|███▋      | 126/347 [00:43<01:09,  3.18it/s]\u001b[A\n",
            " 37%|███▋      | 127/347 [00:44<01:09,  3.19it/s]\u001b[A\n",
            " 37%|███▋      | 128/347 [00:44<01:07,  3.26it/s]\u001b[A\n",
            " 37%|███▋      | 129/347 [00:44<01:06,  3.27it/s]\u001b[A\n",
            " 37%|███▋      | 130/347 [00:44<01:06,  3.24it/s]\u001b[A\n",
            " 38%|███▊      | 131/347 [00:45<01:07,  3.22it/s]\u001b[A\n",
            " 38%|███▊      | 132/347 [00:45<01:07,  3.18it/s]\u001b[A\n",
            " 38%|███▊      | 133/347 [00:45<01:08,  3.11it/s]\u001b[A\n",
            " 39%|███▊      | 134/347 [00:46<01:06,  3.20it/s]\u001b[A\n",
            " 39%|███▉      | 135/347 [00:46<01:08,  3.11it/s]\u001b[A\n",
            " 39%|███▉      | 136/347 [00:46<01:08,  3.06it/s]\u001b[A\n",
            " 39%|███▉      | 137/347 [00:47<01:08,  3.09it/s]\u001b[A\n",
            " 40%|███▉      | 138/347 [00:47<01:06,  3.13it/s]\u001b[A\n",
            " 40%|████      | 139/347 [00:47<01:06,  3.14it/s]\u001b[A\n",
            " 40%|████      | 140/347 [00:48<01:06,  3.09it/s]\u001b[A\n",
            " 41%|████      | 141/347 [00:48<01:05,  3.12it/s]\u001b[A\n",
            " 41%|████      | 142/347 [00:48<01:05,  3.13it/s]\u001b[A\n",
            " 41%|████      | 143/347 [00:49<01:06,  3.05it/s]\u001b[A\n",
            " 41%|████▏     | 144/347 [00:49<01:05,  3.09it/s]\u001b[A\n",
            " 42%|████▏     | 145/347 [00:49<01:04,  3.14it/s]\u001b[A\n",
            " 42%|████▏     | 146/347 [00:50<01:04,  3.12it/s]\u001b[A\n",
            " 42%|████▏     | 147/347 [00:50<01:03,  3.15it/s]\u001b[A\n",
            " 43%|████▎     | 148/347 [00:50<01:02,  3.19it/s]\u001b[A\n",
            " 43%|████▎     | 149/347 [00:51<01:03,  3.13it/s]\u001b[A\n",
            " 43%|████▎     | 150/347 [00:51<01:03,  3.12it/s]\u001b[A\n",
            " 44%|████▎     | 151/347 [00:51<01:02,  3.14it/s]\u001b[A\n",
            " 44%|████▍     | 152/347 [00:51<01:02,  3.11it/s]\u001b[A\n",
            " 44%|████▍     | 153/347 [00:52<01:02,  3.12it/s]\u001b[A\n",
            " 44%|████▍     | 154/347 [00:52<01:02,  3.11it/s]\u001b[A\n",
            " 45%|████▍     | 155/347 [00:52<00:59,  3.20it/s]\u001b[A\n",
            " 45%|████▍     | 156/347 [00:53<00:59,  3.20it/s]\u001b[A\n",
            " 45%|████▌     | 157/347 [00:53<00:59,  3.17it/s]\u001b[A\n",
            " 46%|████▌     | 158/347 [00:53<01:00,  3.12it/s]\u001b[A\n",
            " 46%|████▌     | 159/347 [00:54<01:00,  3.12it/s]\u001b[A\n",
            " 46%|████▌     | 160/347 [00:54<01:01,  3.07it/s]\u001b[A\n",
            " 46%|████▋     | 161/347 [00:54<00:59,  3.14it/s]\u001b[A\n",
            " 47%|████▋     | 162/347 [00:55<01:00,  3.07it/s]\u001b[A\n",
            " 47%|████▋     | 163/347 [00:55<01:00,  3.03it/s]\u001b[A\n",
            " 47%|████▋     | 164/347 [00:55<01:01,  2.99it/s]\u001b[A\n",
            " 48%|████▊     | 165/347 [00:56<01:00,  3.01it/s]\u001b[A\n",
            " 48%|████▊     | 166/347 [00:56<00:57,  3.12it/s]\u001b[A\n",
            " 48%|████▊     | 167/347 [00:56<00:56,  3.18it/s]\u001b[A\n",
            " 48%|████▊     | 168/347 [00:57<00:57,  3.14it/s]\u001b[A\n",
            " 49%|████▊     | 169/347 [00:57<00:57,  3.11it/s]\u001b[A\n",
            " 49%|████▉     | 170/347 [00:57<00:57,  3.10it/s]\u001b[A\n",
            " 49%|████▉     | 171/347 [00:58<00:56,  3.13it/s]\u001b[A\n",
            " 50%|████▉     | 172/347 [00:58<00:55,  3.13it/s]\u001b[A\n",
            " 50%|████▉     | 173/347 [00:58<00:56,  3.10it/s]\u001b[A\n",
            " 50%|█████     | 174/347 [00:59<00:56,  3.07it/s]\u001b[A\n",
            " 50%|█████     | 175/347 [00:59<00:55,  3.13it/s]\u001b[A\n",
            " 51%|█████     | 176/347 [00:59<00:55,  3.09it/s]\u001b[A\n",
            " 51%|█████     | 177/347 [01:00<00:54,  3.10it/s]\u001b[A\n",
            " 51%|█████▏    | 178/347 [01:00<00:53,  3.15it/s]\u001b[A\n",
            " 52%|█████▏    | 179/347 [01:00<00:53,  3.12it/s]\u001b[A\n",
            " 52%|█████▏    | 180/347 [01:00<00:53,  3.10it/s]\u001b[A\n",
            " 52%|█████▏    | 181/347 [01:01<00:53,  3.13it/s]\u001b[A\n",
            " 52%|█████▏    | 182/347 [01:01<00:51,  3.19it/s]\u001b[A\n",
            " 53%|█████▎    | 183/347 [01:01<00:51,  3.20it/s]\u001b[A\n",
            " 53%|█████▎    | 184/347 [01:02<00:50,  3.23it/s]\u001b[A\n",
            " 53%|█████▎    | 185/347 [01:02<00:49,  3.26it/s]\u001b[A\n",
            " 54%|█████▎    | 186/347 [01:02<00:50,  3.21it/s]\u001b[A\n",
            " 54%|█████▍    | 187/347 [01:03<00:49,  3.22it/s]\u001b[A\n",
            " 54%|█████▍    | 188/347 [01:03<00:50,  3.15it/s]\u001b[A\n",
            " 54%|█████▍    | 189/347 [01:03<00:50,  3.14it/s]\u001b[A\n",
            " 55%|█████▍    | 190/347 [01:04<00:50,  3.10it/s]\u001b[A\n",
            " 55%|█████▌    | 191/347 [01:04<00:49,  3.12it/s]\u001b[A\n",
            " 55%|█████▌    | 192/347 [01:04<00:50,  3.08it/s]\u001b[A\n",
            " 56%|█████▌    | 193/347 [01:05<00:48,  3.18it/s]\u001b[A\n",
            " 56%|█████▌    | 194/347 [01:05<00:49,  3.08it/s]\u001b[A\n",
            " 56%|█████▌    | 195/347 [01:05<00:48,  3.15it/s]\u001b[A\n",
            " 56%|█████▋    | 196/347 [01:06<00:47,  3.16it/s]\u001b[A\n",
            " 57%|█████▋    | 197/347 [01:06<00:46,  3.20it/s]\u001b[A\n",
            " 57%|█████▋    | 198/347 [01:06<00:46,  3.19it/s]\u001b[A\n",
            " 57%|█████▋    | 199/347 [01:06<00:47,  3.13it/s]\u001b[A\n",
            " 58%|█████▊    | 200/347 [01:07<00:46,  3.15it/s]\u001b[A\n",
            " 58%|█████▊    | 201/347 [01:07<00:46,  3.11it/s]\u001b[A\n",
            " 58%|█████▊    | 202/347 [01:07<00:46,  3.09it/s]\u001b[A\n",
            " 59%|█████▊    | 203/347 [01:08<00:46,  3.07it/s]\u001b[A\n",
            " 59%|█████▉    | 204/347 [01:08<00:46,  3.07it/s]\u001b[A\n",
            " 59%|█████▉    | 205/347 [01:08<00:45,  3.10it/s]\u001b[A\n",
            " 59%|█████▉    | 206/347 [01:09<00:46,  3.06it/s]\u001b[A\n",
            " 60%|█████▉    | 207/347 [01:09<00:45,  3.08it/s]\u001b[A\n",
            " 60%|█████▉    | 208/347 [01:09<00:44,  3.12it/s]\u001b[A\n",
            " 60%|██████    | 209/347 [01:10<00:43,  3.16it/s]\u001b[A\n",
            " 61%|██████    | 210/347 [01:10<00:43,  3.16it/s]\u001b[A\n",
            " 61%|██████    | 211/347 [01:10<00:43,  3.14it/s]\u001b[A\n",
            " 61%|██████    | 212/347 [01:11<00:43,  3.09it/s]\u001b[A\n",
            " 61%|██████▏   | 213/347 [01:11<00:43,  3.10it/s]\u001b[A\n",
            " 62%|██████▏   | 214/347 [01:11<00:42,  3.16it/s]\u001b[A\n",
            " 62%|██████▏   | 215/347 [01:12<00:42,  3.14it/s]\u001b[A\n",
            " 62%|██████▏   | 216/347 [01:12<00:41,  3.12it/s]\u001b[A\n",
            " 63%|██████▎   | 217/347 [01:12<00:41,  3.12it/s]\u001b[A\n",
            " 63%|██████▎   | 218/347 [01:13<00:41,  3.14it/s]\u001b[A\n",
            " 63%|██████▎   | 219/347 [01:13<00:40,  3.16it/s]\u001b[A\n",
            " 63%|██████▎   | 220/347 [01:13<00:40,  3.15it/s]\u001b[A\n",
            " 64%|██████▎   | 221/347 [01:14<00:40,  3.14it/s]\u001b[A\n",
            " 64%|██████▍   | 222/347 [01:14<00:39,  3.14it/s]\u001b[A\n",
            " 64%|██████▍   | 223/347 [01:14<00:39,  3.10it/s]\u001b[A\n",
            " 65%|██████▍   | 224/347 [01:15<00:39,  3.09it/s]\u001b[A\n",
            " 65%|██████▍   | 225/347 [01:15<00:38,  3.16it/s]\u001b[A\n",
            " 65%|██████▌   | 226/347 [01:15<00:38,  3.15it/s]\u001b[A\n",
            " 65%|██████▌   | 227/347 [01:15<00:38,  3.10it/s]\u001b[A\n",
            " 66%|██████▌   | 228/347 [01:16<00:37,  3.14it/s]\u001b[A\n",
            " 66%|██████▌   | 229/347 [01:16<00:37,  3.14it/s]\u001b[A\n",
            " 66%|██████▋   | 230/347 [01:16<00:36,  3.18it/s]\u001b[A\n",
            " 67%|██████▋   | 231/347 [01:17<00:37,  3.08it/s]\u001b[A\n",
            " 67%|██████▋   | 232/347 [01:17<00:36,  3.14it/s]\u001b[A\n",
            " 67%|██████▋   | 233/347 [01:17<00:35,  3.20it/s]\u001b[A\n",
            " 67%|██████▋   | 234/347 [01:18<00:35,  3.17it/s]\u001b[A\n",
            " 68%|██████▊   | 235/347 [01:18<00:35,  3.18it/s]\u001b[A\n",
            " 68%|██████▊   | 236/347 [01:18<00:34,  3.18it/s]\u001b[A\n",
            " 68%|██████▊   | 237/347 [01:19<00:34,  3.23it/s]\u001b[A\n",
            " 69%|██████▊   | 238/347 [01:19<00:33,  3.21it/s]\u001b[A\n",
            " 69%|██████▉   | 239/347 [01:19<00:33,  3.22it/s]\u001b[A\n",
            " 69%|██████▉   | 240/347 [01:20<00:33,  3.23it/s]\u001b[A\n",
            " 69%|██████▉   | 241/347 [01:20<00:32,  3.23it/s]\u001b[A\n",
            " 70%|██████▉   | 242/347 [01:20<00:32,  3.26it/s]\u001b[A\n",
            " 70%|███████   | 243/347 [01:20<00:32,  3.17it/s]\u001b[A\n",
            " 70%|███████   | 244/347 [01:21<00:32,  3.14it/s]\u001b[A\n",
            " 71%|███████   | 245/347 [01:21<00:33,  3.08it/s]\u001b[A\n",
            " 71%|███████   | 246/347 [01:21<00:32,  3.13it/s]\u001b[A\n",
            " 71%|███████   | 247/347 [01:22<00:31,  3.17it/s]\u001b[A\n",
            " 71%|███████▏  | 248/347 [01:22<00:30,  3.20it/s]\u001b[A\n",
            " 72%|███████▏  | 249/347 [01:22<00:31,  3.15it/s]\u001b[A\n",
            " 72%|███████▏  | 250/347 [01:23<00:31,  3.12it/s]\u001b[A\n",
            " 72%|███████▏  | 251/347 [01:23<00:30,  3.15it/s]\u001b[A\n",
            " 73%|███████▎  | 252/347 [01:23<00:30,  3.16it/s]\u001b[A\n",
            " 73%|███████▎  | 253/347 [01:24<00:30,  3.13it/s]\u001b[A\n",
            " 73%|███████▎  | 254/347 [01:24<00:29,  3.14it/s]\u001b[A\n",
            " 73%|███████▎  | 255/347 [01:24<00:28,  3.18it/s]\u001b[A\n",
            " 74%|███████▍  | 256/347 [01:25<00:29,  3.12it/s]\u001b[A\n",
            " 74%|███████▍  | 257/347 [01:25<00:27,  3.23it/s]\u001b[A\n",
            " 74%|███████▍  | 258/347 [01:25<00:27,  3.25it/s]\u001b[A\n",
            " 75%|███████▍  | 259/347 [01:26<00:27,  3.17it/s]\u001b[A\n",
            " 75%|███████▍  | 260/347 [01:26<00:27,  3.14it/s]\u001b[A\n",
            " 75%|███████▌  | 261/347 [01:26<00:27,  3.15it/s]\u001b[A\n",
            " 76%|███████▌  | 262/347 [01:26<00:26,  3.18it/s]\u001b[A\n",
            " 76%|███████▌  | 263/347 [01:27<00:26,  3.20it/s]\u001b[A\n",
            " 76%|███████▌  | 264/347 [01:27<00:25,  3.19it/s]\u001b[A\n",
            " 76%|███████▋  | 265/347 [01:27<00:26,  3.14it/s]\u001b[A\n",
            " 77%|███████▋  | 266/347 [01:28<00:25,  3.19it/s]\u001b[A\n",
            " 77%|███████▋  | 267/347 [01:28<00:24,  3.25it/s]\u001b[A\n",
            " 77%|███████▋  | 268/347 [01:28<00:24,  3.26it/s]\u001b[A\n",
            " 78%|███████▊  | 269/347 [01:29<00:24,  3.19it/s]\u001b[A\n",
            " 78%|███████▊  | 270/347 [01:29<00:24,  3.17it/s]\u001b[A\n",
            " 78%|███████▊  | 271/347 [01:29<00:23,  3.23it/s]\u001b[A\n",
            " 78%|███████▊  | 272/347 [01:30<00:23,  3.22it/s]\u001b[A\n",
            " 79%|███████▊  | 273/347 [01:30<00:22,  3.27it/s]\u001b[A\n",
            " 79%|███████▉  | 274/347 [01:30<00:22,  3.27it/s]\u001b[A\n",
            " 79%|███████▉  | 275/347 [01:31<00:22,  3.20it/s]\u001b[A\n",
            " 80%|███████▉  | 276/347 [01:31<00:22,  3.16it/s]\u001b[A\n",
            " 80%|███████▉  | 277/347 [01:31<00:22,  3.09it/s]\u001b[A\n",
            " 80%|████████  | 278/347 [01:32<00:21,  3.14it/s]\u001b[A\n",
            " 80%|████████  | 279/347 [01:32<00:21,  3.16it/s]\u001b[A\n",
            " 81%|████████  | 280/347 [01:32<00:21,  3.16it/s]\u001b[A\n",
            " 81%|████████  | 281/347 [01:32<00:20,  3.15it/s]\u001b[A\n",
            " 81%|████████▏ | 282/347 [01:33<00:20,  3.16it/s]\u001b[A\n",
            " 82%|████████▏ | 283/347 [01:33<00:19,  3.21it/s]\u001b[A\n",
            " 82%|████████▏ | 284/347 [01:33<00:19,  3.21it/s]\u001b[A\n",
            " 82%|████████▏ | 285/347 [01:34<00:19,  3.15it/s]\u001b[A\n",
            " 82%|████████▏ | 286/347 [01:34<00:19,  3.14it/s]\u001b[A\n",
            " 83%|████████▎ | 287/347 [01:34<00:19,  3.10it/s]\u001b[A\n",
            " 83%|████████▎ | 288/347 [01:35<00:19,  3.05it/s]\u001b[A\n",
            " 83%|████████▎ | 289/347 [01:35<00:18,  3.17it/s]\u001b[A\n",
            " 84%|████████▎ | 290/347 [01:35<00:17,  3.18it/s]\u001b[A\n",
            " 84%|████████▍ | 291/347 [01:36<00:17,  3.12it/s]\u001b[A\n",
            " 84%|████████▍ | 292/347 [01:36<00:17,  3.12it/s]\u001b[A\n",
            " 84%|████████▍ | 293/347 [01:36<00:17,  3.10it/s]\u001b[A\n",
            " 85%|████████▍ | 294/347 [01:37<00:16,  3.20it/s]\u001b[A\n",
            " 85%|████████▌ | 295/347 [01:37<00:16,  3.20it/s]\u001b[A\n",
            " 85%|████████▌ | 296/347 [01:37<00:15,  3.20it/s]\u001b[A\n",
            " 86%|████████▌ | 297/347 [01:38<00:15,  3.21it/s]\u001b[A\n",
            " 86%|████████▌ | 298/347 [01:38<00:15,  3.15it/s]\u001b[A\n",
            " 86%|████████▌ | 299/347 [01:38<00:15,  3.20it/s]\u001b[A\n",
            " 86%|████████▋ | 300/347 [01:38<00:14,  3.20it/s]\u001b[A\n",
            " 87%|████████▋ | 301/347 [01:39<00:14,  3.17it/s]\u001b[A\n",
            " 87%|████████▋ | 302/347 [01:39<00:14,  3.14it/s]\u001b[A\n",
            " 87%|████████▋ | 303/347 [01:39<00:13,  3.15it/s]\u001b[A\n",
            " 88%|████████▊ | 304/347 [01:40<00:13,  3.18it/s]\u001b[A\n",
            " 88%|████████▊ | 305/347 [01:40<00:12,  3.24it/s]\u001b[A\n",
            " 88%|████████▊ | 306/347 [01:40<00:12,  3.24it/s]\u001b[A\n",
            " 88%|████████▊ | 307/347 [01:41<00:12,  3.18it/s]\u001b[A\n",
            " 89%|████████▉ | 308/347 [01:41<00:12,  3.15it/s]\u001b[A\n",
            " 89%|████████▉ | 309/347 [01:41<00:12,  3.14it/s]\u001b[A\n",
            " 89%|████████▉ | 310/347 [01:42<00:11,  3.14it/s]\u001b[A\n",
            " 90%|████████▉ | 311/347 [01:42<00:11,  3.10it/s]\u001b[A\n",
            " 90%|████████▉ | 312/347 [01:42<00:11,  3.14it/s]\u001b[A\n",
            " 90%|█████████ | 313/347 [01:43<00:10,  3.12it/s]\u001b[A\n",
            " 90%|█████████ | 314/347 [01:43<00:10,  3.08it/s]\u001b[A\n",
            " 91%|█████████ | 315/347 [01:43<00:10,  3.15it/s]\u001b[A\n",
            " 91%|█████████ | 316/347 [01:44<00:09,  3.12it/s]\u001b[A\n",
            " 91%|█████████▏| 317/347 [01:44<00:09,  3.11it/s]\u001b[A\n",
            " 92%|█████████▏| 318/347 [01:44<00:09,  3.18it/s]\u001b[A\n",
            " 92%|█████████▏| 319/347 [01:44<00:08,  3.12it/s]\u001b[A\n",
            " 92%|█████████▏| 320/347 [01:45<00:08,  3.13it/s]\u001b[A\n",
            " 93%|█████████▎| 321/347 [01:45<00:08,  3.22it/s]\u001b[A\n",
            " 93%|█████████▎| 322/347 [01:45<00:07,  3.21it/s]\u001b[A\n",
            " 93%|█████████▎| 323/347 [01:46<00:07,  3.17it/s]\u001b[A\n",
            " 93%|█████████▎| 324/347 [01:46<00:07,  3.18it/s]\u001b[A\n",
            " 94%|█████████▎| 325/347 [01:46<00:07,  3.10it/s]\u001b[A\n",
            " 94%|█████████▍| 326/347 [01:47<00:06,  3.09it/s]\u001b[A\n",
            " 94%|█████████▍| 327/347 [01:47<00:06,  3.06it/s]\u001b[A\n",
            " 95%|█████████▍| 328/347 [01:47<00:06,  3.10it/s]\u001b[A\n",
            " 95%|█████████▍| 329/347 [01:48<00:05,  3.10it/s]\u001b[A\n",
            " 95%|█████████▌| 330/347 [01:48<00:05,  3.09it/s]\u001b[A\n",
            " 95%|█████████▌| 331/347 [01:48<00:05,  3.12it/s]\u001b[A\n",
            " 96%|█████████▌| 332/347 [01:49<00:04,  3.20it/s]\u001b[A\n",
            " 96%|█████████▌| 333/347 [01:49<00:04,  3.13it/s]\u001b[A\n",
            " 96%|█████████▋| 334/347 [01:49<00:04,  3.12it/s]\u001b[A\n",
            " 97%|█████████▋| 335/347 [01:50<00:03,  3.16it/s]\u001b[A\n",
            " 97%|█████████▋| 336/347 [01:50<00:03,  3.14it/s]\u001b[A\n",
            " 97%|█████████▋| 337/347 [01:50<00:03,  3.24it/s]\u001b[A\n",
            " 97%|█████████▋| 338/347 [01:51<00:02,  3.23it/s]\u001b[A\n",
            " 98%|█████████▊| 339/347 [01:51<00:02,  3.19it/s]\u001b[A\n",
            " 98%|█████████▊| 340/347 [01:51<00:02,  3.16it/s]\u001b[A\n",
            " 98%|█████████▊| 341/347 [01:51<00:01,  3.14it/s]\u001b[A\n",
            " 99%|█████████▊| 342/347 [01:52<00:01,  3.24it/s]\u001b[A\n",
            " 99%|█████████▉| 343/347 [01:52<00:01,  3.21it/s]\u001b[A\n",
            " 99%|█████████▉| 344/347 [01:52<00:00,  3.17it/s]\u001b[A\n",
            " 99%|█████████▉| 345/347 [01:53<00:00,  3.16it/s]\u001b[A\n",
            "100%|█████████▉| 346/347 [01:53<00:00,  3.14it/s]\u001b[A\n",
            "100%|██████████| 347/347 [01:55<00:00,  3.01it/s]\n",
            "\n",
            "  0%|          | 0/149 [00:00<?, ?it/s]\u001b[A\n",
            "  1%|          | 1/149 [00:00<00:29,  5.05it/s]\u001b[A\n",
            "  1%|▏         | 2/149 [00:00<00:28,  5.18it/s]\u001b[A\n",
            "  2%|▏         | 3/149 [00:00<00:26,  5.55it/s]\u001b[A\n",
            "  3%|▎         | 4/149 [00:00<00:26,  5.44it/s]\u001b[A\n",
            "  3%|▎         | 5/149 [00:00<00:27,  5.26it/s]\u001b[A\n",
            "  4%|▍         | 6/149 [00:01<00:26,  5.38it/s]\u001b[A\n",
            "  5%|▍         | 7/149 [00:01<00:26,  5.38it/s]\u001b[A\n",
            "  5%|▌         | 8/149 [00:01<00:25,  5.57it/s]\u001b[A\n",
            "  6%|▌         | 9/149 [00:01<00:25,  5.56it/s]\u001b[A\n",
            "  7%|▋         | 10/149 [00:01<00:25,  5.42it/s]\u001b[A\n",
            "  7%|▋         | 11/149 [00:02<00:25,  5.36it/s]\u001b[A\n",
            "  8%|▊         | 12/149 [00:02<00:25,  5.29it/s]\u001b[A\n",
            "  9%|▊         | 13/149 [00:02<00:25,  5.29it/s]\u001b[A\n",
            "  9%|▉         | 14/149 [00:02<00:25,  5.33it/s]\u001b[A\n",
            " 10%|█         | 15/149 [00:02<00:25,  5.18it/s]\u001b[A\n",
            " 11%|█         | 16/149 [00:03<00:25,  5.24it/s]\u001b[A\n",
            " 11%|█▏        | 17/149 [00:03<00:25,  5.26it/s]\u001b[A\n",
            " 12%|█▏        | 18/149 [00:03<00:25,  5.10it/s]\u001b[A\n",
            " 13%|█▎        | 19/149 [00:03<00:25,  5.16it/s]\u001b[A\n",
            " 13%|█▎        | 20/149 [00:03<00:25,  5.13it/s]\u001b[A\n",
            " 14%|█▍        | 21/149 [00:03<00:25,  5.05it/s]\u001b[A\n",
            " 15%|█▍        | 22/149 [00:04<00:24,  5.12it/s]\u001b[A\n",
            " 15%|█▌        | 23/149 [00:04<00:24,  5.13it/s]\u001b[A\n",
            " 16%|█▌        | 24/149 [00:04<00:22,  5.47it/s]\u001b[A\n",
            " 17%|█▋        | 25/149 [00:04<00:23,  5.37it/s]\u001b[A\n",
            " 17%|█▋        | 26/149 [00:04<00:22,  5.47it/s]\u001b[A\n",
            " 18%|█▊        | 27/149 [00:05<00:23,  5.29it/s]\u001b[A\n",
            " 19%|█▉        | 28/149 [00:05<00:22,  5.33it/s]\u001b[A\n",
            " 19%|█▉        | 29/149 [00:05<00:22,  5.34it/s]\u001b[A\n",
            " 20%|██        | 30/149 [00:05<00:21,  5.50it/s]\u001b[A\n",
            " 21%|██        | 31/149 [00:05<00:21,  5.53it/s]\u001b[A\n",
            " 21%|██▏       | 32/149 [00:05<00:20,  5.60it/s]\u001b[A\n",
            " 22%|██▏       | 33/149 [00:06<00:20,  5.57it/s]\u001b[A\n",
            " 23%|██▎       | 34/149 [00:06<00:20,  5.57it/s]\u001b[A\n",
            " 23%|██▎       | 35/149 [00:06<00:20,  5.59it/s]\u001b[A\n",
            " 24%|██▍       | 36/149 [00:06<00:20,  5.48it/s]\u001b[A\n",
            " 25%|██▍       | 37/149 [00:06<00:20,  5.39it/s]\u001b[A\n",
            " 26%|██▌       | 38/149 [00:07<00:20,  5.55it/s]\u001b[A\n",
            " 26%|██▌       | 39/149 [00:07<00:20,  5.44it/s]\u001b[A\n",
            " 27%|██▋       | 40/149 [00:07<00:19,  5.48it/s]\u001b[A\n",
            " 28%|██▊       | 41/149 [00:07<00:19,  5.55it/s]\u001b[A\n",
            " 28%|██▊       | 42/149 [00:07<00:19,  5.42it/s]\u001b[A\n",
            " 29%|██▉       | 43/149 [00:08<00:19,  5.36it/s]\u001b[A\n",
            " 30%|██▉       | 44/149 [00:08<00:19,  5.33it/s]\u001b[A\n",
            " 30%|███       | 45/149 [00:08<00:19,  5.39it/s]\u001b[A\n",
            " 31%|███       | 46/149 [00:08<00:18,  5.45it/s]\u001b[A\n",
            " 32%|███▏      | 47/149 [00:08<00:18,  5.46it/s]\u001b[A\n",
            " 32%|███▏      | 48/149 [00:08<00:18,  5.37it/s]\u001b[A\n",
            " 33%|███▎      | 49/149 [00:09<00:18,  5.40it/s]\u001b[A\n",
            " 34%|███▎      | 50/149 [00:09<00:18,  5.28it/s]\u001b[A\n",
            " 34%|███▍      | 51/149 [00:09<00:18,  5.41it/s]\u001b[A\n",
            " 35%|███▍      | 52/149 [00:09<00:18,  5.29it/s]\u001b[A\n",
            " 36%|███▌      | 53/149 [00:09<00:18,  5.21it/s]\u001b[A\n",
            " 36%|███▌      | 54/149 [00:10<00:17,  5.41it/s]\u001b[A\n",
            " 37%|███▋      | 55/149 [00:10<00:17,  5.38it/s]\u001b[A\n",
            " 38%|███▊      | 56/149 [00:10<00:16,  5.49it/s]\u001b[A\n",
            " 38%|███▊      | 57/149 [00:10<00:17,  5.39it/s]\u001b[A\n",
            " 39%|███▉      | 58/149 [00:10<00:16,  5.36it/s]\u001b[A\n",
            " 40%|███▉      | 59/149 [00:10<00:16,  5.47it/s]\u001b[A\n",
            " 40%|████      | 60/149 [00:11<00:15,  5.59it/s]\u001b[A\n",
            " 41%|████      | 61/149 [00:11<00:16,  5.44it/s]\u001b[A\n",
            " 42%|████▏     | 62/149 [00:11<00:15,  5.61it/s]\u001b[A\n",
            " 42%|████▏     | 63/149 [00:11<00:15,  5.46it/s]\u001b[A\n",
            " 43%|████▎     | 64/149 [00:11<00:15,  5.52it/s]\u001b[A\n",
            " 44%|████▎     | 65/149 [00:12<00:15,  5.32it/s]\u001b[A\n",
            " 44%|████▍     | 66/149 [00:12<00:15,  5.29it/s]\u001b[A\n",
            " 45%|████▍     | 67/149 [00:12<00:14,  5.58it/s]\u001b[A\n",
            " 46%|████▌     | 68/149 [00:12<00:14,  5.46it/s]\u001b[A\n",
            " 46%|████▋     | 69/149 [00:12<00:14,  5.58it/s]\u001b[A\n",
            " 47%|████▋     | 70/149 [00:12<00:14,  5.41it/s]\u001b[A\n",
            " 48%|████▊     | 71/149 [00:13<00:14,  5.48it/s]\u001b[A\n",
            " 48%|████▊     | 72/149 [00:13<00:13,  5.68it/s]\u001b[A\n",
            " 49%|████▉     | 73/149 [00:13<00:13,  5.69it/s]\u001b[A\n",
            " 50%|████▉     | 74/149 [00:13<00:13,  5.45it/s]\u001b[A\n",
            " 50%|█████     | 75/149 [00:13<00:13,  5.50it/s]\u001b[A\n",
            " 51%|█████     | 76/149 [00:14<00:13,  5.28it/s]\u001b[A\n",
            " 52%|█████▏    | 77/149 [00:14<00:13,  5.22it/s]\u001b[A\n",
            " 52%|█████▏    | 78/149 [00:14<00:13,  5.20it/s]\u001b[A\n",
            " 53%|█████▎    | 79/149 [00:14<00:13,  5.07it/s]\u001b[A\n",
            " 54%|█████▎    | 80/149 [00:14<00:13,  5.02it/s]\u001b[A\n",
            " 54%|█████▍    | 81/149 [00:15<00:13,  5.13it/s]\u001b[A\n",
            " 55%|█████▌    | 82/149 [00:15<00:12,  5.17it/s]\u001b[A\n",
            " 56%|█████▌    | 83/149 [00:15<00:12,  5.41it/s]\u001b[A\n",
            " 56%|█████▋    | 84/149 [00:15<00:12,  5.22it/s]\u001b[A\n",
            " 57%|█████▋    | 85/149 [00:15<00:12,  5.20it/s]\u001b[A\n",
            " 58%|█████▊    | 86/149 [00:16<00:12,  5.12it/s]\u001b[A\n",
            " 58%|█████▊    | 87/149 [00:16<00:11,  5.28it/s]\u001b[A\n",
            " 59%|█████▉    | 88/149 [00:16<00:10,  5.56it/s]\u001b[A\n",
            " 60%|█████▉    | 89/149 [00:16<00:10,  5.56it/s]\u001b[A\n",
            " 60%|██████    | 90/149 [00:16<00:10,  5.55it/s]\u001b[A\n",
            " 61%|██████    | 91/149 [00:16<00:10,  5.50it/s]\u001b[A\n",
            " 62%|██████▏   | 92/149 [00:17<00:10,  5.47it/s]\u001b[A\n",
            " 62%|██████▏   | 93/149 [00:17<00:10,  5.34it/s]\u001b[A\n",
            " 63%|██████▎   | 94/149 [00:17<00:09,  5.58it/s]\u001b[A\n",
            " 64%|██████▍   | 95/149 [00:17<00:10,  5.40it/s]\u001b[A\n",
            " 64%|██████▍   | 96/149 [00:17<00:10,  5.08it/s]\u001b[A\n",
            " 65%|██████▌   | 97/149 [00:18<00:09,  5.23it/s]\u001b[A\n",
            " 66%|██████▌   | 98/149 [00:18<00:09,  5.30it/s]\u001b[A\n",
            " 66%|██████▋   | 99/149 [00:18<00:09,  5.39it/s]\u001b[A\n",
            " 67%|██████▋   | 100/149 [00:18<00:09,  5.31it/s]\u001b[A\n",
            " 68%|██████▊   | 101/149 [00:18<00:09,  5.26it/s]\u001b[A\n",
            " 68%|██████▊   | 102/149 [00:18<00:08,  5.33it/s]\u001b[A\n",
            " 69%|██████▉   | 103/149 [00:19<00:08,  5.31it/s]\u001b[A\n",
            " 70%|██████▉   | 104/149 [00:19<00:08,  5.34it/s]\u001b[A\n",
            " 70%|███████   | 105/149 [00:19<00:08,  5.34it/s]\u001b[A\n",
            " 71%|███████   | 106/149 [00:19<00:08,  5.25it/s]\u001b[A\n",
            " 72%|███████▏  | 107/149 [00:19<00:07,  5.31it/s]\u001b[A\n",
            " 72%|███████▏  | 108/149 [00:20<00:07,  5.46it/s]\u001b[A\n",
            " 73%|███████▎  | 109/149 [00:20<00:07,  5.27it/s]\u001b[A\n",
            " 74%|███████▍  | 110/149 [00:20<00:07,  5.33it/s]\u001b[A\n",
            " 74%|███████▍  | 111/149 [00:20<00:07,  5.37it/s]\u001b[A\n",
            " 75%|███████▌  | 112/149 [00:20<00:06,  5.43it/s]\u001b[A\n",
            " 76%|███████▌  | 113/149 [00:21<00:06,  5.27it/s]\u001b[A\n",
            " 77%|███████▋  | 114/149 [00:21<00:06,  5.38it/s]\u001b[A\n",
            " 77%|███████▋  | 115/149 [00:21<00:06,  5.41it/s]\u001b[A\n",
            " 78%|███████▊  | 116/149 [00:21<00:06,  5.16it/s]\u001b[A\n",
            " 79%|███████▊  | 117/149 [00:21<00:06,  5.26it/s]\u001b[A\n",
            " 79%|███████▉  | 118/149 [00:21<00:05,  5.39it/s]\u001b[A\n",
            " 80%|███████▉  | 119/149 [00:22<00:05,  5.30it/s]\u001b[A\n",
            " 81%|████████  | 120/149 [00:22<00:05,  5.39it/s]\u001b[A\n",
            " 81%|████████  | 121/149 [00:22<00:05,  5.30it/s]\u001b[A\n",
            " 82%|████████▏ | 122/149 [00:22<00:05,  5.30it/s]\u001b[A\n",
            " 83%|████████▎ | 123/149 [00:22<00:04,  5.23it/s]\u001b[A\n",
            " 83%|████████▎ | 124/149 [00:23<00:04,  5.20it/s]\u001b[A\n",
            " 84%|████████▍ | 125/149 [00:23<00:04,  5.19it/s]\u001b[A\n",
            " 85%|████████▍ | 126/149 [00:23<00:04,  5.30it/s]\u001b[A\n",
            " 85%|████████▌ | 127/149 [00:23<00:04,  5.20it/s]\u001b[A\n",
            " 86%|████████▌ | 128/149 [00:23<00:04,  5.22it/s]\u001b[A\n",
            " 87%|████████▋ | 129/149 [00:24<00:03,  5.23it/s]\u001b[A\n",
            " 87%|████████▋ | 130/149 [00:24<00:03,  5.34it/s]\u001b[A\n",
            " 88%|████████▊ | 131/149 [00:24<00:03,  5.57it/s]\u001b[A\n",
            " 89%|████████▊ | 132/149 [00:24<00:03,  5.42it/s]\u001b[A\n",
            " 89%|████████▉ | 133/149 [00:24<00:02,  5.34it/s]\u001b[A\n",
            " 90%|████████▉ | 134/149 [00:25<00:02,  5.30it/s]\u001b[A\n",
            " 91%|█████████ | 135/149 [00:25<00:02,  5.34it/s]\u001b[A\n",
            " 91%|█████████▏| 136/149 [00:25<00:02,  5.52it/s]\u001b[A\n",
            " 92%|█████████▏| 137/149 [00:25<00:02,  5.42it/s]\u001b[A\n",
            " 93%|█████████▎| 138/149 [00:25<00:02,  5.38it/s]\u001b[A\n",
            " 93%|█████████▎| 139/149 [00:25<00:01,  5.33it/s]\u001b[A\n",
            " 94%|█████████▍| 140/149 [00:26<00:01,  5.19it/s]\u001b[A\n",
            " 95%|█████████▍| 141/149 [00:26<00:01,  5.12it/s]\u001b[A\n",
            " 95%|█████████▌| 142/149 [00:26<00:01,  5.15it/s]\u001b[A\n",
            " 96%|█████████▌| 143/149 [00:26<00:01,  5.08it/s]\u001b[A\n",
            " 97%|█████████▋| 144/149 [00:26<00:00,  5.05it/s]\u001b[A\n",
            " 97%|█████████▋| 145/149 [00:27<00:00,  5.11it/s]\u001b[A\n",
            " 98%|█████████▊| 146/149 [00:27<00:00,  5.14it/s]\u001b[A\n",
            " 99%|█████████▊| 147/149 [00:27<00:00,  5.30it/s]\u001b[A\n",
            " 99%|█████████▉| 148/149 [00:27<00:00,  5.16it/s]\u001b[A\n",
            "100%|██████████| 149/149 [00:28<00:00,  5.27it/s]\n"
          ]
        },
        {
          "metadata": {
            "tags": null
          },
          "name": "stdout",
          "output_type": "stream",
          "text": [
            "Epoch [1], Train Loss : [3.18174] Val Loss : [3.09725] Val F1 Score : [0.05017]\n"
          ]
        },
        {
          "output_type": "stream",
          "name": "stderr",
          "text": [
            "\n",
            "  0%|          | 0/347 [00:00<?, ?it/s]\u001b[A\n",
            "  0%|          | 1/347 [00:00<01:41,  3.42it/s]\u001b[A\n",
            "  1%|          | 2/347 [00:00<01:43,  3.33it/s]\u001b[A\n",
            "  1%|          | 3/347 [00:00<01:46,  3.23it/s]\u001b[A\n",
            "  1%|          | 4/347 [00:01<01:49,  3.15it/s]\u001b[A\n",
            "  1%|▏         | 5/347 [00:01<01:47,  3.17it/s]\u001b[A\n",
            "  2%|▏         | 6/347 [00:01<01:46,  3.21it/s]\u001b[A\n",
            "  2%|▏         | 7/347 [00:02<01:45,  3.23it/s]\u001b[A\n",
            "  2%|▏         | 8/347 [00:02<01:46,  3.19it/s]\u001b[A\n",
            "  3%|▎         | 9/347 [00:02<01:45,  3.20it/s]\u001b[A\n",
            "  3%|▎         | 10/347 [00:03<01:45,  3.20it/s]\u001b[A\n",
            "  3%|▎         | 11/347 [00:03<01:44,  3.21it/s]\u001b[A\n",
            "  3%|▎         | 12/347 [00:03<01:41,  3.29it/s]\u001b[A\n",
            "  4%|▎         | 13/347 [00:04<01:42,  3.26it/s]\u001b[A\n",
            "  4%|▍         | 14/347 [00:04<01:43,  3.23it/s]\u001b[A\n",
            "  4%|▍         | 15/347 [00:04<01:42,  3.23it/s]\u001b[A\n",
            "  5%|▍         | 16/347 [00:04<01:41,  3.26it/s]\u001b[A\n",
            "  5%|▍         | 17/347 [00:05<01:42,  3.23it/s]\u001b[A\n",
            "  5%|▌         | 18/347 [00:05<01:41,  3.23it/s]\u001b[A\n",
            "  5%|▌         | 19/347 [00:05<01:41,  3.24it/s]\u001b[A\n",
            "  6%|▌         | 20/347 [00:06<01:40,  3.25it/s]\u001b[A\n",
            "  6%|▌         | 21/347 [00:06<01:39,  3.27it/s]\u001b[A\n",
            "  6%|▋         | 22/347 [00:06<01:38,  3.29it/s]\u001b[A\n",
            "  7%|▋         | 23/347 [00:07<01:38,  3.29it/s]\u001b[A\n",
            "  7%|▋         | 24/347 [00:07<01:38,  3.27it/s]\u001b[A\n",
            "  7%|▋         | 25/347 [00:07<01:38,  3.28it/s]\u001b[A\n",
            "  7%|▋         | 26/347 [00:08<01:38,  3.25it/s]\u001b[A\n",
            "  8%|▊         | 27/347 [00:08<01:39,  3.23it/s]\u001b[A\n",
            "  8%|▊         | 28/347 [00:08<01:37,  3.27it/s]\u001b[A\n",
            "  8%|▊         | 29/347 [00:08<01:37,  3.25it/s]\u001b[A\n",
            "  9%|▊         | 30/347 [00:09<01:39,  3.17it/s]\u001b[A\n",
            "  9%|▉         | 31/347 [00:09<01:40,  3.15it/s]\u001b[A\n",
            "  9%|▉         | 32/347 [00:09<01:39,  3.18it/s]\u001b[A\n",
            " 10%|▉         | 33/347 [00:10<01:38,  3.20it/s]\u001b[A\n",
            " 10%|▉         | 34/347 [00:10<01:39,  3.15it/s]\u001b[A\n",
            " 10%|█         | 35/347 [00:10<01:39,  3.12it/s]\u001b[A\n",
            " 10%|█         | 36/347 [00:11<01:39,  3.12it/s]\u001b[A\n",
            " 11%|█         | 37/347 [00:11<01:40,  3.08it/s]\u001b[A\n",
            " 11%|█         | 38/347 [00:11<01:40,  3.06it/s]\u001b[A\n",
            " 11%|█         | 39/347 [00:12<01:37,  3.17it/s]\u001b[A\n",
            " 12%|█▏        | 40/347 [00:12<01:37,  3.15it/s]\u001b[A\n",
            " 12%|█▏        | 41/347 [00:12<01:35,  3.19it/s]\u001b[A\n",
            " 12%|█▏        | 42/347 [00:13<01:34,  3.23it/s]\u001b[A\n",
            " 12%|█▏        | 43/347 [00:13<01:36,  3.16it/s]\u001b[A\n",
            " 13%|█▎        | 44/347 [00:13<01:34,  3.20it/s]\u001b[A\n",
            " 13%|█▎        | 45/347 [00:14<01:33,  3.23it/s]\u001b[A\n",
            " 13%|█▎        | 46/347 [00:14<01:32,  3.25it/s]\u001b[A\n",
            " 14%|█▎        | 47/347 [00:14<01:33,  3.20it/s]\u001b[A\n",
            " 14%|█▍        | 48/347 [00:14<01:31,  3.26it/s]\u001b[A\n",
            " 14%|█▍        | 49/347 [00:15<01:30,  3.29it/s]\u001b[A\n",
            " 14%|█▍        | 50/347 [00:15<01:30,  3.28it/s]\u001b[A\n",
            " 15%|█▍        | 51/347 [00:15<01:31,  3.24it/s]\u001b[A\n",
            " 15%|█▍        | 52/347 [00:16<01:30,  3.27it/s]\u001b[A\n",
            " 15%|█▌        | 53/347 [00:16<01:30,  3.26it/s]\u001b[A\n",
            " 16%|█▌        | 54/347 [00:16<01:29,  3.29it/s]\u001b[A\n",
            " 16%|█▌        | 55/347 [00:17<01:28,  3.30it/s]\u001b[A\n",
            " 16%|█▌        | 56/347 [00:17<01:30,  3.22it/s]\u001b[A\n",
            " 16%|█▋        | 57/347 [00:17<01:31,  3.18it/s]\u001b[A\n",
            " 17%|█▋        | 58/347 [00:18<01:30,  3.20it/s]\u001b[A\n",
            " 17%|█▋        | 59/347 [00:18<01:30,  3.17it/s]\u001b[A\n",
            " 17%|█▋        | 60/347 [00:18<01:30,  3.18it/s]\u001b[A\n",
            " 18%|█▊        | 61/347 [00:18<01:28,  3.25it/s]\u001b[A\n",
            " 18%|█▊        | 62/347 [00:19<01:27,  3.25it/s]\u001b[A\n",
            " 18%|█▊        | 63/347 [00:19<01:27,  3.25it/s]\u001b[A\n",
            " 18%|█▊        | 64/347 [00:19<01:27,  3.22it/s]\u001b[A\n",
            " 19%|█▊        | 65/347 [00:20<01:26,  3.25it/s]\u001b[A\n",
            " 19%|█▉        | 66/347 [00:20<01:25,  3.28it/s]\u001b[A\n",
            " 19%|█▉        | 67/347 [00:20<01:26,  3.25it/s]\u001b[A\n",
            " 20%|█▉        | 68/347 [00:21<01:26,  3.22it/s]\u001b[A\n",
            " 20%|█▉        | 69/347 [00:21<01:25,  3.24it/s]\u001b[A\n",
            " 20%|██        | 70/347 [00:21<01:24,  3.27it/s]\u001b[A\n",
            " 20%|██        | 71/347 [00:22<01:24,  3.26it/s]\u001b[A\n",
            " 21%|██        | 72/347 [00:22<01:24,  3.24it/s]\u001b[A\n",
            " 21%|██        | 73/347 [00:22<01:26,  3.18it/s]\u001b[A\n",
            " 21%|██▏       | 74/347 [00:22<01:25,  3.19it/s]\u001b[A\n",
            " 22%|██▏       | 75/347 [00:23<01:27,  3.12it/s]\u001b[A\n",
            " 22%|██▏       | 76/347 [00:23<01:25,  3.16it/s]\u001b[A\n",
            " 22%|██▏       | 77/347 [00:23<01:26,  3.11it/s]\u001b[A\n",
            " 22%|██▏       | 78/347 [00:24<01:25,  3.14it/s]\u001b[A\n",
            " 23%|██▎       | 79/347 [00:24<01:24,  3.17it/s]\u001b[A\n",
            " 23%|██▎       | 80/347 [00:24<01:24,  3.17it/s]\u001b[A\n",
            " 23%|██▎       | 81/347 [00:25<01:23,  3.17it/s]\u001b[A\n",
            " 24%|██▎       | 82/347 [00:25<01:22,  3.22it/s]\u001b[A\n",
            " 24%|██▍       | 83/347 [00:25<01:22,  3.19it/s]\u001b[A\n",
            " 24%|██▍       | 84/347 [00:26<01:23,  3.16it/s]\u001b[A\n",
            " 24%|██▍       | 85/347 [00:26<01:23,  3.13it/s]\u001b[A\n",
            " 25%|██▍       | 86/347 [00:26<01:22,  3.15it/s]\u001b[A\n",
            " 25%|██▌       | 87/347 [00:27<01:21,  3.20it/s]\u001b[A\n",
            " 25%|██▌       | 88/347 [00:27<01:20,  3.20it/s]\u001b[A\n",
            " 26%|██▌       | 89/347 [00:27<01:21,  3.15it/s]\u001b[A\n",
            " 26%|██▌       | 90/347 [00:28<01:20,  3.17it/s]\u001b[A\n",
            " 26%|██▌       | 91/347 [00:28<01:20,  3.19it/s]\u001b[A\n",
            " 27%|██▋       | 92/347 [00:28<01:20,  3.19it/s]\u001b[A\n",
            " 27%|██▋       | 93/347 [00:28<01:17,  3.27it/s]\u001b[A\n",
            " 27%|██▋       | 94/347 [00:29<01:17,  3.29it/s]\u001b[A\n",
            " 27%|██▋       | 95/347 [00:29<01:18,  3.22it/s]\u001b[A\n",
            " 28%|██▊       | 96/347 [00:29<01:17,  3.24it/s]\u001b[A\n",
            " 28%|██▊       | 97/347 [00:30<01:16,  3.27it/s]\u001b[A\n",
            " 28%|██▊       | 98/347 [00:30<01:16,  3.24it/s]\u001b[A\n",
            " 29%|██▊       | 99/347 [00:30<01:16,  3.26it/s]\u001b[A\n",
            " 29%|██▉       | 100/347 [00:31<01:15,  3.28it/s]\u001b[A\n",
            " 29%|██▉       | 101/347 [00:31<01:17,  3.18it/s]\u001b[A\n",
            " 29%|██▉       | 102/347 [00:31<01:15,  3.22it/s]\u001b[A\n",
            " 30%|██▉       | 103/347 [00:32<01:16,  3.21it/s]\u001b[A\n",
            " 30%|██▉       | 104/347 [00:32<01:13,  3.30it/s]\u001b[A\n",
            " 30%|███       | 105/347 [00:32<01:14,  3.25it/s]\u001b[A\n",
            " 31%|███       | 106/347 [00:32<01:14,  3.22it/s]\u001b[A\n",
            " 31%|███       | 107/347 [00:33<01:13,  3.26it/s]\u001b[A\n",
            " 31%|███       | 108/347 [00:33<01:13,  3.24it/s]\u001b[A\n",
            " 31%|███▏      | 109/347 [00:33<01:12,  3.26it/s]\u001b[A\n",
            " 32%|███▏      | 110/347 [00:34<01:14,  3.18it/s]\u001b[A\n",
            " 32%|███▏      | 111/347 [00:34<01:14,  3.18it/s]\u001b[A\n",
            " 32%|███▏      | 112/347 [00:34<01:15,  3.13it/s]\u001b[A\n",
            " 33%|███▎      | 113/347 [00:35<01:14,  3.15it/s]\u001b[A\n",
            " 33%|███▎      | 114/347 [00:35<01:13,  3.15it/s]\u001b[A\n",
            " 33%|███▎      | 115/347 [00:35<01:12,  3.18it/s]\u001b[A\n",
            " 33%|███▎      | 116/347 [00:36<01:13,  3.13it/s]\u001b[A\n",
            " 34%|███▎      | 117/347 [00:36<01:13,  3.11it/s]\u001b[A\n",
            " 34%|███▍      | 118/347 [00:36<01:13,  3.10it/s]\u001b[A\n",
            " 34%|███▍      | 119/347 [00:37<01:12,  3.12it/s]\u001b[A\n",
            " 35%|███▍      | 120/347 [00:37<01:12,  3.12it/s]\u001b[A\n",
            " 35%|███▍      | 121/347 [00:37<01:11,  3.15it/s]\u001b[A\n",
            " 35%|███▌      | 122/347 [00:38<01:10,  3.20it/s]\u001b[A\n",
            " 35%|███▌      | 123/347 [00:38<01:10,  3.16it/s]\u001b[A\n",
            " 36%|███▌      | 124/347 [00:38<01:10,  3.15it/s]\u001b[A\n",
            " 36%|███▌      | 125/347 [00:38<01:09,  3.18it/s]\u001b[A\n",
            " 36%|███▋      | 126/347 [00:39<01:10,  3.12it/s]\u001b[A\n",
            " 37%|███▋      | 127/347 [00:39<01:11,  3.08it/s]\u001b[A\n",
            " 37%|███▋      | 128/347 [00:39<01:10,  3.12it/s]\u001b[A\n",
            " 37%|███▋      | 129/347 [00:40<01:08,  3.17it/s]\u001b[A\n",
            " 37%|███▋      | 130/347 [00:40<01:08,  3.16it/s]\u001b[A\n",
            " 38%|███▊      | 131/347 [00:40<01:06,  3.25it/s]\u001b[A\n",
            " 38%|███▊      | 132/347 [00:41<01:07,  3.19it/s]\u001b[A\n",
            " 38%|███▊      | 133/347 [00:41<01:06,  3.22it/s]\u001b[A\n",
            " 39%|███▊      | 134/347 [00:41<01:06,  3.19it/s]\u001b[A\n",
            " 39%|███▉      | 135/347 [00:42<01:07,  3.15it/s]\u001b[A\n",
            " 39%|███▉      | 136/347 [00:42<01:06,  3.17it/s]\u001b[A\n",
            " 39%|███▉      | 137/347 [00:42<01:07,  3.11it/s]\u001b[A\n",
            " 40%|███▉      | 138/347 [00:43<01:06,  3.12it/s]\u001b[A\n",
            " 40%|████      | 139/347 [00:43<01:06,  3.12it/s]\u001b[A\n",
            " 40%|████      | 140/347 [00:43<01:07,  3.08it/s]\u001b[A\n",
            " 41%|████      | 141/347 [00:44<01:05,  3.14it/s]\u001b[A\n",
            " 41%|████      | 142/347 [00:44<01:05,  3.15it/s]\u001b[A\n",
            " 41%|████      | 143/347 [00:44<01:05,  3.13it/s]\u001b[A\n",
            " 41%|████▏     | 144/347 [00:45<01:03,  3.19it/s]\u001b[A\n",
            " 42%|████▏     | 145/347 [00:45<01:02,  3.21it/s]\u001b[A\n",
            " 42%|████▏     | 146/347 [00:45<01:01,  3.26it/s]\u001b[A\n",
            " 42%|████▏     | 147/347 [00:45<01:02,  3.20it/s]\u001b[A\n",
            " 43%|████▎     | 148/347 [00:46<01:03,  3.14it/s]\u001b[A\n",
            " 43%|████▎     | 149/347 [00:46<01:03,  3.12it/s]\u001b[A\n",
            " 43%|████▎     | 150/347 [00:46<01:03,  3.08it/s]\u001b[A\n",
            " 44%|████▎     | 151/347 [00:47<01:03,  3.09it/s]\u001b[A\n",
            " 44%|████▍     | 152/347 [00:47<01:01,  3.16it/s]\u001b[A\n",
            " 44%|████▍     | 153/347 [00:47<01:02,  3.12it/s]\u001b[A\n",
            " 44%|████▍     | 154/347 [00:48<01:03,  3.06it/s]\u001b[A\n",
            " 45%|████▍     | 155/347 [00:48<01:02,  3.09it/s]\u001b[A\n",
            " 45%|████▍     | 156/347 [00:48<01:02,  3.06it/s]\u001b[A\n",
            " 45%|████▌     | 157/347 [00:49<00:59,  3.18it/s]\u001b[A\n",
            " 46%|████▌     | 158/347 [00:49<00:59,  3.19it/s]\u001b[A\n",
            " 46%|████▌     | 159/347 [00:49<00:58,  3.22it/s]\u001b[A\n",
            " 46%|████▌     | 160/347 [00:50<00:58,  3.18it/s]\u001b[A\n",
            " 46%|████▋     | 161/347 [00:50<00:57,  3.21it/s]\u001b[A\n",
            " 47%|████▋     | 162/347 [00:50<00:58,  3.19it/s]\u001b[A\n",
            " 47%|████▋     | 163/347 [00:51<00:58,  3.14it/s]\u001b[A\n",
            " 47%|████▋     | 164/347 [00:51<00:58,  3.15it/s]\u001b[A\n",
            " 48%|████▊     | 165/347 [00:51<00:57,  3.17it/s]\u001b[A\n",
            " 48%|████▊     | 166/347 [00:51<00:57,  3.16it/s]\u001b[A\n",
            " 48%|████▊     | 167/347 [00:52<00:56,  3.17it/s]\u001b[A\n",
            " 48%|████▊     | 168/347 [00:52<00:56,  3.19it/s]\u001b[A\n",
            " 49%|████▊     | 169/347 [00:52<00:56,  3.18it/s]\u001b[A\n",
            " 49%|████▉     | 170/347 [00:53<00:56,  3.13it/s]\u001b[A\n",
            " 49%|████▉     | 171/347 [00:53<00:57,  3.07it/s]\u001b[A\n",
            " 50%|████▉     | 172/347 [00:53<00:57,  3.06it/s]\u001b[A\n",
            " 50%|████▉     | 173/347 [00:54<00:56,  3.08it/s]\u001b[A\n",
            " 50%|█████     | 174/347 [00:54<00:55,  3.09it/s]\u001b[A"
          ]
        }
      ],
      "source": [
        "num_classes = 25\n",
        "model = ConvNeXtModel(num_classes=num_classes)\n",
        "model.eval()\n",
        "optimizer = torch.optim.Adam(params = model.parameters(), lr = CFG[\"LEARNING_RATE\"])\n",
        "scheduler = torch.optim.lr_scheduler.ReduceLROnPlateau(optimizer, mode='max', factor=0.5, patience=2, threshold_mode='abs', min_lr=1e-8, verbose=True)\n",
        "\n",
        "infer_model = train(model, optimizer, train_loader, val_loader, scheduler, device)"
      ]
    },
    {
      "cell_type": "markdown",
      "id": "e275a486-9c59-4b4e-80f6-5000e017b921",
      "metadata": {
        "id": "e275a486-9c59-4b4e-80f6-5000e017b921"
      },
      "source": [
        "## Inference"
      ]
    },
    {
      "cell_type": "code",
      "execution_count": null,
      "id": "0ed16d0e-61ee-4737-b90a-3842860cc40a",
      "metadata": {
        "id": "0ed16d0e-61ee-4737-b90a-3842860cc40a"
      },
      "outputs": [],
      "source": [
        "test = pd.read_csv('/content/drive/MyDrive/Colab Notebooks/bird_data/test.csv')"
      ]
    },
    {
      "cell_type": "code",
      "execution_count": null,
      "id": "dbbf9ae5-9d8c-4800-a809-63094a1e9a24",
      "metadata": {
        "id": "dbbf9ae5-9d8c-4800-a809-63094a1e9a24"
      },
      "outputs": [],
      "source": [
        "test_dataset = CustomDataset(test['img_path'].values, None, test_transform)\n",
        "test_loader = DataLoader(test_dataset, batch_size=CFG['BATCH_SIZE'], shuffle=False, num_workers=0)"
      ]
    },
    {
      "cell_type": "code",
      "source": [
        "print(test_dataset.img_path_list[:10])"
      ],
      "metadata": {
        "id": "ffGil9zu_qpS"
      },
      "id": "ffGil9zu_qpS",
      "execution_count": null,
      "outputs": []
    },
    {
      "cell_type": "code",
      "execution_count": null,
      "id": "378fd3a9-76d8-4c9a-81a1-c6a48492684c",
      "metadata": {
        "id": "378fd3a9-76d8-4c9a-81a1-c6a48492684c"
      },
      "outputs": [],
      "source": [
        "def inference(model, test_loader, device):\n",
        "    model.eval()\n",
        "    preds = []\n",
        "    with torch.no_grad():\n",
        "        for imgs in tqdm(iter(test_loader)):\n",
        "            imgs = imgs.float().to(device)\n",
        "            pred = model(imgs)\n",
        "\n",
        "            preds += pred.argmax(1).detach().cpu().numpy().tolist()\n",
        "\n",
        "    preds = le.inverse_transform(preds)\n",
        "    return preds"
      ]
    },
    {
      "cell_type": "code",
      "execution_count": null,
      "id": "2866935c-407d-4919-a58b-1f8feaa66a2a",
      "metadata": {
        "id": "2866935c-407d-4919-a58b-1f8feaa66a2a"
      },
      "outputs": [],
      "source": [
        "preds = inference(infer_model, test_loader, device)"
      ]
    },
    {
      "cell_type": "markdown",
      "id": "35be0d25-6a06-43bb-bca0-94eda2409a26",
      "metadata": {
        "id": "35be0d25-6a06-43bb-bca0-94eda2409a26"
      },
      "source": [
        "## Submission"
      ]
    },
    {
      "cell_type": "code",
      "execution_count": null,
      "id": "fc864be2-c306-4ad0-aa97-1d5ab5ea9811",
      "metadata": {
        "id": "fc864be2-c306-4ad0-aa97-1d5ab5ea9811",
        "colab": {
          "base_uri": "https://localhost:8080/",
          "height": 297
        },
        "outputId": "9bc03450-7984-4ee6-8888-288d98fec2f8"
      },
      "outputs": [
        {
          "output_type": "error",
          "ename": "FileNotFoundError",
          "evalue": "[Errno 2] No such file or directory: './sample_submission.csv'",
          "traceback": [
            "\u001b[0;31m---------------------------------------------------------------------------\u001b[0m",
            "\u001b[0;31mFileNotFoundError\u001b[0m                         Traceback (most recent call last)",
            "\u001b[0;32m<ipython-input-32-1bbcf3c2c580>\u001b[0m in \u001b[0;36m<cell line: 1>\u001b[0;34m()\u001b[0m\n\u001b[0;32m----> 1\u001b[0;31m \u001b[0msubmit\u001b[0m \u001b[0;34m=\u001b[0m \u001b[0mpd\u001b[0m\u001b[0;34m.\u001b[0m\u001b[0mread_csv\u001b[0m\u001b[0;34m(\u001b[0m\u001b[0;34m'./sample_submission.csv'\u001b[0m\u001b[0;34m)\u001b[0m\u001b[0;34m\u001b[0m\u001b[0;34m\u001b[0m\u001b[0m\n\u001b[0m",
            "\u001b[0;32m/usr/local/lib/python3.10/dist-packages/pandas/io/parsers/readers.py\u001b[0m in \u001b[0;36mread_csv\u001b[0;34m(filepath_or_buffer, sep, delimiter, header, names, index_col, usecols, dtype, engine, converters, true_values, false_values, skipinitialspace, skiprows, skipfooter, nrows, na_values, keep_default_na, na_filter, verbose, skip_blank_lines, parse_dates, infer_datetime_format, keep_date_col, date_parser, date_format, dayfirst, cache_dates, iterator, chunksize, compression, thousands, decimal, lineterminator, quotechar, quoting, doublequote, escapechar, comment, encoding, encoding_errors, dialect, on_bad_lines, delim_whitespace, low_memory, memory_map, float_precision, storage_options, dtype_backend)\u001b[0m\n\u001b[1;32m    910\u001b[0m     \u001b[0mkwds\u001b[0m\u001b[0;34m.\u001b[0m\u001b[0mupdate\u001b[0m\u001b[0;34m(\u001b[0m\u001b[0mkwds_defaults\u001b[0m\u001b[0;34m)\u001b[0m\u001b[0;34m\u001b[0m\u001b[0;34m\u001b[0m\u001b[0m\n\u001b[1;32m    911\u001b[0m \u001b[0;34m\u001b[0m\u001b[0m\n\u001b[0;32m--> 912\u001b[0;31m     \u001b[0;32mreturn\u001b[0m \u001b[0m_read\u001b[0m\u001b[0;34m(\u001b[0m\u001b[0mfilepath_or_buffer\u001b[0m\u001b[0;34m,\u001b[0m \u001b[0mkwds\u001b[0m\u001b[0;34m)\u001b[0m\u001b[0;34m\u001b[0m\u001b[0;34m\u001b[0m\u001b[0m\n\u001b[0m\u001b[1;32m    913\u001b[0m \u001b[0;34m\u001b[0m\u001b[0m\n\u001b[1;32m    914\u001b[0m \u001b[0;34m\u001b[0m\u001b[0m\n",
            "\u001b[0;32m/usr/local/lib/python3.10/dist-packages/pandas/io/parsers/readers.py\u001b[0m in \u001b[0;36m_read\u001b[0;34m(filepath_or_buffer, kwds)\u001b[0m\n\u001b[1;32m    575\u001b[0m \u001b[0;34m\u001b[0m\u001b[0m\n\u001b[1;32m    576\u001b[0m     \u001b[0;31m# Create the parser.\u001b[0m\u001b[0;34m\u001b[0m\u001b[0;34m\u001b[0m\u001b[0m\n\u001b[0;32m--> 577\u001b[0;31m     \u001b[0mparser\u001b[0m \u001b[0;34m=\u001b[0m \u001b[0mTextFileReader\u001b[0m\u001b[0;34m(\u001b[0m\u001b[0mfilepath_or_buffer\u001b[0m\u001b[0;34m,\u001b[0m \u001b[0;34m**\u001b[0m\u001b[0mkwds\u001b[0m\u001b[0;34m)\u001b[0m\u001b[0;34m\u001b[0m\u001b[0;34m\u001b[0m\u001b[0m\n\u001b[0m\u001b[1;32m    578\u001b[0m \u001b[0;34m\u001b[0m\u001b[0m\n\u001b[1;32m    579\u001b[0m     \u001b[0;32mif\u001b[0m \u001b[0mchunksize\u001b[0m \u001b[0;32mor\u001b[0m \u001b[0miterator\u001b[0m\u001b[0;34m:\u001b[0m\u001b[0;34m\u001b[0m\u001b[0;34m\u001b[0m\u001b[0m\n",
            "\u001b[0;32m/usr/local/lib/python3.10/dist-packages/pandas/io/parsers/readers.py\u001b[0m in \u001b[0;36m__init__\u001b[0;34m(self, f, engine, **kwds)\u001b[0m\n\u001b[1;32m   1405\u001b[0m \u001b[0;34m\u001b[0m\u001b[0m\n\u001b[1;32m   1406\u001b[0m         \u001b[0mself\u001b[0m\u001b[0;34m.\u001b[0m\u001b[0mhandles\u001b[0m\u001b[0;34m:\u001b[0m \u001b[0mIOHandles\u001b[0m \u001b[0;34m|\u001b[0m \u001b[0;32mNone\u001b[0m \u001b[0;34m=\u001b[0m \u001b[0;32mNone\u001b[0m\u001b[0;34m\u001b[0m\u001b[0;34m\u001b[0m\u001b[0m\n\u001b[0;32m-> 1407\u001b[0;31m         \u001b[0mself\u001b[0m\u001b[0;34m.\u001b[0m\u001b[0m_engine\u001b[0m \u001b[0;34m=\u001b[0m \u001b[0mself\u001b[0m\u001b[0;34m.\u001b[0m\u001b[0m_make_engine\u001b[0m\u001b[0;34m(\u001b[0m\u001b[0mf\u001b[0m\u001b[0;34m,\u001b[0m \u001b[0mself\u001b[0m\u001b[0;34m.\u001b[0m\u001b[0mengine\u001b[0m\u001b[0;34m)\u001b[0m\u001b[0;34m\u001b[0m\u001b[0;34m\u001b[0m\u001b[0m\n\u001b[0m\u001b[1;32m   1408\u001b[0m \u001b[0;34m\u001b[0m\u001b[0m\n\u001b[1;32m   1409\u001b[0m     \u001b[0;32mdef\u001b[0m \u001b[0mclose\u001b[0m\u001b[0;34m(\u001b[0m\u001b[0mself\u001b[0m\u001b[0;34m)\u001b[0m \u001b[0;34m->\u001b[0m \u001b[0;32mNone\u001b[0m\u001b[0;34m:\u001b[0m\u001b[0;34m\u001b[0m\u001b[0;34m\u001b[0m\u001b[0m\n",
            "\u001b[0;32m/usr/local/lib/python3.10/dist-packages/pandas/io/parsers/readers.py\u001b[0m in \u001b[0;36m_make_engine\u001b[0;34m(self, f, engine)\u001b[0m\n\u001b[1;32m   1659\u001b[0m                 \u001b[0;32mif\u001b[0m \u001b[0;34m\"b\"\u001b[0m \u001b[0;32mnot\u001b[0m \u001b[0;32min\u001b[0m \u001b[0mmode\u001b[0m\u001b[0;34m:\u001b[0m\u001b[0;34m\u001b[0m\u001b[0;34m\u001b[0m\u001b[0m\n\u001b[1;32m   1660\u001b[0m                     \u001b[0mmode\u001b[0m \u001b[0;34m+=\u001b[0m \u001b[0;34m\"b\"\u001b[0m\u001b[0;34m\u001b[0m\u001b[0;34m\u001b[0m\u001b[0m\n\u001b[0;32m-> 1661\u001b[0;31m             self.handles = get_handle(\n\u001b[0m\u001b[1;32m   1662\u001b[0m                 \u001b[0mf\u001b[0m\u001b[0;34m,\u001b[0m\u001b[0;34m\u001b[0m\u001b[0;34m\u001b[0m\u001b[0m\n\u001b[1;32m   1663\u001b[0m                 \u001b[0mmode\u001b[0m\u001b[0;34m,\u001b[0m\u001b[0;34m\u001b[0m\u001b[0;34m\u001b[0m\u001b[0m\n",
            "\u001b[0;32m/usr/local/lib/python3.10/dist-packages/pandas/io/common.py\u001b[0m in \u001b[0;36mget_handle\u001b[0;34m(path_or_buf, mode, encoding, compression, memory_map, is_text, errors, storage_options)\u001b[0m\n\u001b[1;32m    857\u001b[0m         \u001b[0;32mif\u001b[0m \u001b[0mioargs\u001b[0m\u001b[0;34m.\u001b[0m\u001b[0mencoding\u001b[0m \u001b[0;32mand\u001b[0m \u001b[0;34m\"b\"\u001b[0m \u001b[0;32mnot\u001b[0m \u001b[0;32min\u001b[0m \u001b[0mioargs\u001b[0m\u001b[0;34m.\u001b[0m\u001b[0mmode\u001b[0m\u001b[0;34m:\u001b[0m\u001b[0;34m\u001b[0m\u001b[0;34m\u001b[0m\u001b[0m\n\u001b[1;32m    858\u001b[0m             \u001b[0;31m# Encoding\u001b[0m\u001b[0;34m\u001b[0m\u001b[0;34m\u001b[0m\u001b[0m\n\u001b[0;32m--> 859\u001b[0;31m             handle = open(\n\u001b[0m\u001b[1;32m    860\u001b[0m                 \u001b[0mhandle\u001b[0m\u001b[0;34m,\u001b[0m\u001b[0;34m\u001b[0m\u001b[0;34m\u001b[0m\u001b[0m\n\u001b[1;32m    861\u001b[0m                 \u001b[0mioargs\u001b[0m\u001b[0;34m.\u001b[0m\u001b[0mmode\u001b[0m\u001b[0;34m,\u001b[0m\u001b[0;34m\u001b[0m\u001b[0;34m\u001b[0m\u001b[0m\n",
            "\u001b[0;31mFileNotFoundError\u001b[0m: [Errno 2] No such file or directory: './sample_submission.csv'"
          ]
        }
      ],
      "source": [
        "submit = pd.read_csv('./sample_submission.csv')"
      ]
    },
    {
      "cell_type": "code",
      "execution_count": null,
      "id": "a472198d-6a2f-4d97-b45b-55031d6019a8",
      "metadata": {
        "id": "a472198d-6a2f-4d97-b45b-55031d6019a8"
      },
      "outputs": [],
      "source": [
        "submit['label'] = preds"
      ]
    },
    {
      "cell_type": "code",
      "execution_count": null,
      "id": "0e3e0511-2ce0-4658-893f-0f3641c50bb8",
      "metadata": {
        "id": "0e3e0511-2ce0-4658-893f-0f3641c50bb8"
      },
      "outputs": [],
      "source": [
        "submit.to_csv('./baseline_submit.csv', index=False)"
      ]
    }
  ],
  "metadata": {
    "accelerator": "GPU",
    "colab": {
      "gpuType": "V100",
      "machine_shape": "hm",
      "provenance": []
    },
    "kernelspec": {
      "display_name": "Python 3",
      "name": "python3"
    },
    "language_info": {
      "name": "python"
    }
  },
  "nbformat": 4,
  "nbformat_minor": 5
}